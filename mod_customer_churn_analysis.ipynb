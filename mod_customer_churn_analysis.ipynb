{
  "nbformat": 4,
  "nbformat_minor": 0,
  "metadata": {
    "kernelspec": {
      "display_name": "Python 3",
      "language": "python",
      "name": "python3"
    },
    "language_info": {
      "codemirror_mode": {
        "name": "ipython",
        "version": 3
      },
      "file_extension": ".py",
      "mimetype": "text/x-python",
      "name": "python",
      "nbconvert_exporter": "python",
      "pygments_lexer": "ipython3",
      "version": "3.7.6"
    },
    "colab": {
      "name": "mod_customer_churn_analysis.ipynb",
      "provenance": [],
      "collapsed_sections": [],
      "include_colab_link": true
    }
  },
  "cells": [
    {
      "cell_type": "markdown",
      "metadata": {
        "id": "view-in-github",
        "colab_type": "text"
      },
      "source": [
        "<a href=\"https://colab.research.google.com/github/linhmai19/telecom_customer_attrition_analysis/blob/master/mod_customer_churn_analysis.ipynb\" target=\"_parent\"><img src=\"https://colab.research.google.com/assets/colab-badge.svg\" alt=\"Open In Colab\"/></a>"
      ]
    },
    {
      "cell_type": "markdown",
      "metadata": {
        "id": "Syw5oD8bDWal",
        "colab_type": "text"
      },
      "source": [
        "# Classification Analysis Project\n",
        "\n",
        "* Student name: Linh Mai\n",
        "* Student pace: self paced\n",
        "* Scheduled project review date/time: July 16th, 2020 \n",
        "* Instructor name: Jeff Herman\n",
        "* Blog post URL: https://linhmai19.github.io/ \n"
      ]
    },
    {
      "cell_type": "code",
      "metadata": {
        "id": "OiSeIZSyDZJF",
        "colab_type": "code",
        "colab": {
          "resources": {
            "http://localhost:8080/nbextensions/google.colab/files.js": {
              "data": "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",
              "ok": true,
              "headers": [
                [
                  "content-type",
                  "application/javascript"
                ]
              ],
              "status": 200,
              "status_text": ""
            }
          },
          "base_uri": "https://localhost:8080/",
          "height": 73
        },
        "outputId": "9192f8de-7186-4f3f-c63a-39ba1093e416"
      },
      "source": [
        "from google.colab import files\n",
        "uploaded = files.upload()"
      ],
      "execution_count": null,
      "outputs": [
        {
          "output_type": "display_data",
          "data": {
            "text/html": [
              "\n",
              "     <input type=\"file\" id=\"files-c425bfab-6452-4837-8e76-81a7beca33fd\" name=\"files[]\" multiple disabled\n",
              "        style=\"border:none\" />\n",
              "     <output id=\"result-c425bfab-6452-4837-8e76-81a7beca33fd\">\n",
              "      Upload widget is only available when the cell has been executed in the\n",
              "      current browser session. Please rerun this cell to enable.\n",
              "      </output>\n",
              "      <script src=\"/nbextensions/google.colab/files.js\"></script> "
            ],
            "text/plain": [
              "<IPython.core.display.HTML object>"
            ]
          },
          "metadata": {
            "tags": []
          }
        },
        {
          "output_type": "stream",
          "text": [
            "Saving cleaned_customer_churn.csv to cleaned_customer_churn (5).csv\n"
          ],
          "name": "stdout"
        }
      ]
    },
    {
      "cell_type": "markdown",
      "metadata": {
        "id": "Qedg2SGgDWam",
        "colab_type": "text"
      },
      "source": [
        "# Column Description "
      ]
    },
    {
      "cell_type": "markdown",
      "metadata": {
        "id": "9HvKqpmTDWan",
        "colab_type": "text"
      },
      "source": [
        "Below is the description for each of the columns in the cleaned dataset"
      ]
    },
    {
      "cell_type": "markdown",
      "metadata": {
        "id": "3kX0KMGGDWao",
        "colab_type": "text"
      },
      "source": [
        "* state: the state the user lives in\n",
        "* account length: the number of days the user has this account\n",
        "* international plan: true if the user has the international plan, otherwise false\n",
        "* voice mail plan: true if the user has the voice mail plan, otherwise false\n",
        "* number vmail messages: the number of voice mail messages the user has sent\n",
        "* total day minutes: total number of minutes the user has been in calls during the day\n",
        "* total day calls: total number of calls the user has done during the day\n",
        "* total day charge: total amount of money the user was charged by the Telecom company for calls during the day\n",
        "* total eve minutes: total number of minutes the user has been in calls during the evening\n",
        "* total eve calls: total number of calls the user has done during the evening\n",
        "* total eve charge: total amount of money the user was charged by the Telecom company for calls during the evening\n",
        "* total night minutes: total number of minutes the user has been in calls during the night\n",
        "* total night calls: total number of calls the user has done during the night\n",
        "* total night charge: total amount of money the user was charged by the Telecom company for calls during the night\n",
        "* total intl minutes: total number of minutes the user has been in international calls\n",
        "* total intl calls: total number of international calls the user has done\n",
        "* total intl charge: total amount of money the user was charged by the Telecom company for international calls\n",
        "* customer service calls: number of customer service calls the user has done\n",
        "* churn: true if the user terminated the contract, otherwise false\n",
        "* total charge: total amount of money the user was charged by the Telecom company overall"
      ]
    },
    {
      "cell_type": "markdown",
      "metadata": {
        "id": "vwu9qozIDWao",
        "colab_type": "text"
      },
      "source": [
        "# Import libraries"
      ]
    },
    {
      "cell_type": "code",
      "metadata": {
        "id": "r1SzXZnBDWap",
        "colab_type": "code",
        "colab": {
          "base_uri": "https://localhost:8080/",
          "height": 70
        },
        "outputId": "68dcd5e4-c06e-4d4a-f044-8af1d8ffbb40"
      },
      "source": [
        "import pandas as pd\n",
        "import numpy as np \n",
        "import matplotlib.pyplot as plt\n",
        "%matplotlib inline\n",
        "plt.style.use('seaborn')\n",
        "import seaborn as sns\n",
        "import time\n",
        "import warnings\n",
        "warnings.filterwarnings('ignore')\n",
        "\n",
        "import statsmodels.api as sm\n",
        "import itertools  \n",
        "import xgboost as xgb\n",
        "from sklearn import svm\n",
        "from sklearn.model_selection import train_test_split, KFold, StratifiedKFold, cross_val_score, GridSearchCV\n",
        "from sklearn.linear_model import LogisticRegression, LassoCV\n",
        "from sklearn.neighbors import KNeighborsClassifier\n",
        "from sklearn.ensemble import RandomForestClassifier\n",
        "from sklearn.tree import DecisionTreeClassifier\n",
        "\n",
        "from sklearn.metrics import confusion_matrix, classification_report, roc_curve, auc\n",
        "from sklearn.metrics import accuracy_score, roc_auc_score, f1_score, precision_score, recall_score\n",
        "from sklearn.preprocessing import StandardScaler, LabelEncoder, PolynomialFeatures\n",
        "\n",
        "from imblearn.pipeline import make_pipeline, Pipeline"
      ],
      "execution_count": null,
      "outputs": [
        {
          "output_type": "stream",
          "text": [
            "/usr/local/lib/python3.6/dist-packages/statsmodels/tools/_testing.py:19: FutureWarning: pandas.util.testing is deprecated. Use the functions in the public API at pandas.testing instead.\n",
            "  import pandas.util.testing as tm\n"
          ],
          "name": "stderr"
        }
      ]
    },
    {
      "cell_type": "markdown",
      "metadata": {
        "id": "6Y6O3-aBDWat",
        "colab_type": "text"
      },
      "source": [
        "# Import the cleaned dataset and review it"
      ]
    },
    {
      "cell_type": "code",
      "metadata": {
        "id": "kZrXOysLDWau",
        "colab_type": "code",
        "colab": {
          "base_uri": "https://localhost:8080/",
          "height": 250
        },
        "outputId": "eb6aabbb-4570-4df1-86a7-44585eb0543f"
      },
      "source": [
        "df = pd.read_csv('cleaned_customer_churn.csv')\n",
        "df = df.drop('Unnamed: 0', 1)\n",
        "df.head()"
      ],
      "execution_count": null,
      "outputs": [
        {
          "output_type": "execute_result",
          "data": {
            "text/html": [
              "<div>\n",
              "<style scoped>\n",
              "    .dataframe tbody tr th:only-of-type {\n",
              "        vertical-align: middle;\n",
              "    }\n",
              "\n",
              "    .dataframe tbody tr th {\n",
              "        vertical-align: top;\n",
              "    }\n",
              "\n",
              "    .dataframe thead th {\n",
              "        text-align: right;\n",
              "    }\n",
              "</style>\n",
              "<table border=\"1\" class=\"dataframe\">\n",
              "  <thead>\n",
              "    <tr style=\"text-align: right;\">\n",
              "      <th></th>\n",
              "      <th>state</th>\n",
              "      <th>account length</th>\n",
              "      <th>international plan</th>\n",
              "      <th>voice mail plan</th>\n",
              "      <th>number vmail messages</th>\n",
              "      <th>total day minutes</th>\n",
              "      <th>total day calls</th>\n",
              "      <th>total day charge</th>\n",
              "      <th>total eve minutes</th>\n",
              "      <th>total eve calls</th>\n",
              "      <th>total eve charge</th>\n",
              "      <th>total night minutes</th>\n",
              "      <th>total night calls</th>\n",
              "      <th>total night charge</th>\n",
              "      <th>total intl minutes</th>\n",
              "      <th>total intl calls</th>\n",
              "      <th>total intl charge</th>\n",
              "      <th>customer service calls</th>\n",
              "      <th>churn</th>\n",
              "      <th>total charge</th>\n",
              "    </tr>\n",
              "  </thead>\n",
              "  <tbody>\n",
              "    <tr>\n",
              "      <th>0</th>\n",
              "      <td>KS</td>\n",
              "      <td>128</td>\n",
              "      <td>no</td>\n",
              "      <td>yes</td>\n",
              "      <td>25</td>\n",
              "      <td>265.1</td>\n",
              "      <td>110</td>\n",
              "      <td>45.07</td>\n",
              "      <td>197.4</td>\n",
              "      <td>99</td>\n",
              "      <td>16.78</td>\n",
              "      <td>244.7</td>\n",
              "      <td>91</td>\n",
              "      <td>11.01</td>\n",
              "      <td>10.0</td>\n",
              "      <td>3</td>\n",
              "      <td>2.70</td>\n",
              "      <td>1</td>\n",
              "      <td>False</td>\n",
              "      <td>75.56</td>\n",
              "    </tr>\n",
              "    <tr>\n",
              "      <th>1</th>\n",
              "      <td>OH</td>\n",
              "      <td>107</td>\n",
              "      <td>no</td>\n",
              "      <td>yes</td>\n",
              "      <td>26</td>\n",
              "      <td>161.6</td>\n",
              "      <td>123</td>\n",
              "      <td>27.47</td>\n",
              "      <td>195.5</td>\n",
              "      <td>103</td>\n",
              "      <td>16.62</td>\n",
              "      <td>254.4</td>\n",
              "      <td>103</td>\n",
              "      <td>11.45</td>\n",
              "      <td>13.7</td>\n",
              "      <td>3</td>\n",
              "      <td>3.70</td>\n",
              "      <td>1</td>\n",
              "      <td>False</td>\n",
              "      <td>59.24</td>\n",
              "    </tr>\n",
              "    <tr>\n",
              "      <th>2</th>\n",
              "      <td>NJ</td>\n",
              "      <td>137</td>\n",
              "      <td>no</td>\n",
              "      <td>no</td>\n",
              "      <td>0</td>\n",
              "      <td>243.4</td>\n",
              "      <td>114</td>\n",
              "      <td>41.38</td>\n",
              "      <td>121.2</td>\n",
              "      <td>110</td>\n",
              "      <td>10.30</td>\n",
              "      <td>162.6</td>\n",
              "      <td>104</td>\n",
              "      <td>7.32</td>\n",
              "      <td>12.2</td>\n",
              "      <td>5</td>\n",
              "      <td>3.29</td>\n",
              "      <td>0</td>\n",
              "      <td>False</td>\n",
              "      <td>62.29</td>\n",
              "    </tr>\n",
              "    <tr>\n",
              "      <th>3</th>\n",
              "      <td>OH</td>\n",
              "      <td>84</td>\n",
              "      <td>yes</td>\n",
              "      <td>no</td>\n",
              "      <td>0</td>\n",
              "      <td>299.4</td>\n",
              "      <td>71</td>\n",
              "      <td>50.90</td>\n",
              "      <td>61.9</td>\n",
              "      <td>88</td>\n",
              "      <td>5.26</td>\n",
              "      <td>196.9</td>\n",
              "      <td>89</td>\n",
              "      <td>8.86</td>\n",
              "      <td>6.6</td>\n",
              "      <td>7</td>\n",
              "      <td>1.78</td>\n",
              "      <td>2</td>\n",
              "      <td>False</td>\n",
              "      <td>66.80</td>\n",
              "    </tr>\n",
              "    <tr>\n",
              "      <th>4</th>\n",
              "      <td>OK</td>\n",
              "      <td>75</td>\n",
              "      <td>yes</td>\n",
              "      <td>no</td>\n",
              "      <td>0</td>\n",
              "      <td>166.7</td>\n",
              "      <td>113</td>\n",
              "      <td>28.34</td>\n",
              "      <td>148.3</td>\n",
              "      <td>122</td>\n",
              "      <td>12.61</td>\n",
              "      <td>186.9</td>\n",
              "      <td>121</td>\n",
              "      <td>8.41</td>\n",
              "      <td>10.1</td>\n",
              "      <td>3</td>\n",
              "      <td>2.73</td>\n",
              "      <td>3</td>\n",
              "      <td>False</td>\n",
              "      <td>52.09</td>\n",
              "    </tr>\n",
              "  </tbody>\n",
              "</table>\n",
              "</div>"
            ],
            "text/plain": [
              "  state  account length  ...  churn total charge\n",
              "0    KS             128  ...  False        75.56\n",
              "1    OH             107  ...  False        59.24\n",
              "2    NJ             137  ...  False        62.29\n",
              "3    OH              84  ...  False        66.80\n",
              "4    OK              75  ...  False        52.09\n",
              "\n",
              "[5 rows x 20 columns]"
            ]
          },
          "metadata": {
            "tags": []
          },
          "execution_count": 3
        }
      ]
    },
    {
      "cell_type": "code",
      "metadata": {
        "id": "NzTB_XzqDWay",
        "colab_type": "code",
        "colab": {
          "base_uri": "https://localhost:8080/",
          "height": 468
        },
        "outputId": "09799165-b0b0-4b4f-d8b1-2f5837104b75"
      },
      "source": [
        "df.info()"
      ],
      "execution_count": null,
      "outputs": [
        {
          "output_type": "stream",
          "text": [
            "<class 'pandas.core.frame.DataFrame'>\n",
            "RangeIndex: 3260 entries, 0 to 3259\n",
            "Data columns (total 20 columns):\n",
            " #   Column                  Non-Null Count  Dtype  \n",
            "---  ------                  --------------  -----  \n",
            " 0   state                   3260 non-null   object \n",
            " 1   account length          3260 non-null   int64  \n",
            " 2   international plan      3260 non-null   object \n",
            " 3   voice mail plan         3260 non-null   object \n",
            " 4   number vmail messages   3260 non-null   int64  \n",
            " 5   total day minutes       3260 non-null   float64\n",
            " 6   total day calls         3260 non-null   int64  \n",
            " 7   total day charge        3260 non-null   float64\n",
            " 8   total eve minutes       3260 non-null   float64\n",
            " 9   total eve calls         3260 non-null   int64  \n",
            " 10  total eve charge        3260 non-null   float64\n",
            " 11  total night minutes     3260 non-null   float64\n",
            " 12  total night calls       3260 non-null   int64  \n",
            " 13  total night charge      3260 non-null   float64\n",
            " 14  total intl minutes      3260 non-null   float64\n",
            " 15  total intl calls        3260 non-null   int64  \n",
            " 16  total intl charge       3260 non-null   float64\n",
            " 17  customer service calls  3260 non-null   int64  \n",
            " 18  churn                   3260 non-null   bool   \n",
            " 19  total charge            3260 non-null   float64\n",
            "dtypes: bool(1), float64(9), int64(7), object(3)\n",
            "memory usage: 487.2+ KB\n"
          ],
          "name": "stdout"
        }
      ]
    },
    {
      "cell_type": "markdown",
      "metadata": {
        "id": "nvZFpvYxDWa1",
        "colab_type": "text"
      },
      "source": [
        "## Visualize the distribution of the target variable"
      ]
    },
    {
      "cell_type": "code",
      "metadata": {
        "id": "1oJaWa-5DWb7",
        "colab_type": "code",
        "colab": {
          "base_uri": "https://localhost:8080/",
          "height": 67
        },
        "outputId": "4a71b114-b696-438a-c0f9-dd03a5e37eb5"
      },
      "source": [
        "df['churn'].value_counts(normalize=True)"
      ],
      "execution_count": null,
      "outputs": [
        {
          "output_type": "execute_result",
          "data": {
            "text/plain": [
              "False    0.856135\n",
              "True     0.143865\n",
              "Name: churn, dtype: float64"
            ]
          },
          "metadata": {
            "tags": []
          },
          "execution_count": 5
        }
      ]
    },
    {
      "cell_type": "code",
      "metadata": {
        "id": "oF_A7seqDWa2",
        "colab_type": "code",
        "colab": {
          "base_uri": "https://localhost:8080/",
          "height": 445
        },
        "outputId": "74c6b6f7-3335-42c0-9e09-d2ffcb080b78"
      },
      "source": [
        "print(df.churn.value_counts())\n",
        "df['churn'].value_counts().plot(kind='bar', color='teal')\n",
        "plt.title('Non-churned vs Churned Users', fontsize=14)\n",
        "plt.ylabel('Number of Users', fontsize=12)\n",
        "plt.xticks(rotation=45)"
      ],
      "execution_count": null,
      "outputs": [
        {
          "output_type": "stream",
          "text": [
            "False    2791\n",
            "True      469\n",
            "Name: churn, dtype: int64\n"
          ],
          "name": "stdout"
        },
        {
          "output_type": "execute_result",
          "data": {
            "text/plain": [
              "(array([0, 1]), <a list of 2 Text major ticklabel objects>)"
            ]
          },
          "metadata": {
            "tags": []
          },
          "execution_count": 6
        },
        {
          "output_type": "display_data",
          "data": {
            "image/png": "[encoded data removed]",
            "text/plain": [
              "<Figure size 576x396 with 1 Axes>"
            ]
          },
          "metadata": {
            "tags": []
          }
        }
      ]
    },
    {
      "cell_type": "markdown",
      "metadata": {
        "id": "XXFpKAWbDWa6",
        "colab_type": "text"
      },
      "source": [
        "# Deal with Categorical features"
      ]
    },
    {
      "cell_type": "markdown",
      "metadata": {
        "id": "5o5KyeL51KCx",
        "colab_type": "text"
      },
      "source": [
        "### Visualize Categorical features"
      ]
    },
    {
      "cell_type": "code",
      "metadata": {
        "id": "pHRm2MTNDWa6",
        "colab_type": "code",
        "colab": {}
      },
      "source": [
        "# Categorical features\n",
        "cat_feats = ['state', 'international plan', 'voice mail plan']"
      ],
      "execution_count": null,
      "outputs": []
    },
    {
      "cell_type": "code",
      "metadata": {
        "id": "rlzSCTO8DWa9",
        "colab_type": "code",
        "colab": {
          "base_uri": "https://localhost:8080/",
          "height": 1000
        },
        "outputId": "e79ee734-c04d-418d-9202-dcbc8c433a57"
      },
      "source": [
        "def visualize_influence(feature_list):\n",
        "    for feature in feature_list:\n",
        "        df_plot = df.groupby([feature])['churn'].mean().reset_index()\n",
        "        x = df_plot[feature]\n",
        "        y = df_plot['churn']\n",
        "        plt.figure(figsize=(12, 5))\n",
        "        plt.bar(x, y, color='lightseagreen')\n",
        "        plt.xlabel(feature, fontsize=14)\n",
        "        plt.ylabel('Average churn', fontsize=14)\n",
        "        plt.title(f'Average churn rate by {feature}', fontsize=16, color='chocolate')\n",
        "        plt.xticks(fontsize=12, rotation=45)\n",
        "        plt.yticks(fontsize=12)\n",
        "        plt.show();\n",
        "        \n",
        "visualize_influence(cat_feats)"
      ],
      "execution_count": null,
      "outputs": [
        {
          "output_type": "display_data",
          "data": {
            "image/png": "[encoded data removed]",
            "text/plain": [
              "<Figure size 864x360 with 1 Axes>"
            ]
          },
          "metadata": {
            "tags": []
          }
        },
        {
          "output_type": "display_data",
          "data": {
            "image/png": "[encoded data removed]",
            "text/plain": [
              "<Figure size 864x360 with 1 Axes>"
            ]
          },
          "metadata": {
            "tags": []
          }
        },
        {
          "output_type": "display_data",
          "data": {
            "image/png": "[encoded data removed]",
            "text/plain": [
              "<Figure size 864x360 with 1 Axes>"
            ]
          },
          "metadata": {
            "tags": []
          }
        }
      ]
    },
    {
      "cell_type": "markdown",
      "metadata": {
        "id": "ClY9aCJ3DWbB",
        "colab_type": "text"
      },
      "source": [
        "#### General comments on the visualization \n",
        "* The states with high amount of churned customers are CA, MD, NU, SC, and TX\n",
        "* The states with low amount of churned customers are AK, AZ, HI, and VA\n",
        "* Customers with the international plan have higher proportion of churn than the customers without\n",
        "* Nothing special to comment more on the plot for churn rate by voice mail plan"
      ]
    },
    {
      "cell_type": "markdown",
      "metadata": {
        "id": "1ZExZau_0Rj_",
        "colab_type": "text"
      },
      "source": [
        "### LabelEncoding and create dummies variables for Categorical features"
      ]
    },
    {
      "cell_type": "code",
      "metadata": {
        "id": "2a9vJNFaDWbJ",
        "colab_type": "code",
        "colab": {}
      },
      "source": [
        "# LabelEncoding the categorical features into numeric values\n",
        "le = LabelEncoder()"
      ],
      "execution_count": null,
      "outputs": []
    },
    {
      "cell_type": "code",
      "metadata": {
        "id": "njgtUWl0_bqE",
        "colab_type": "code",
        "colab": {}
      },
      "source": [
        "# le for binary classes in 'international plan' and 'voice mail plan'\n",
        "df['international plan'] = le.fit_transform(df['international plan'])\n",
        "df['voice mail plan'] = le.fit_transform(df['voice mail plan'])"
      ],
      "execution_count": null,
      "outputs": []
    },
    {
      "cell_type": "code",
      "metadata": {
        "id": "O_gfeboGHIzk",
        "colab_type": "code",
        "colab": {
          "base_uri": "https://localhost:8080/",
          "height": 250
        },
        "outputId": "c3c56c77-5490-467a-bb5f-43569308f13f"
      },
      "source": [
        "# Get dummies variables for 'state'\n",
        "df = pd.concat([df, pd.get_dummies(df['state'], prefix='dummy')], axis=1)\n",
        "df.drop(['state'], axis=1, inplace=True)\n",
        "df.head()"
      ],
      "execution_count": null,
      "outputs": [
        {
          "output_type": "execute_result",
          "data": {
            "text/html": [
              "<div>\n",
              "<style scoped>\n",
              "    .dataframe tbody tr th:only-of-type {\n",
              "        vertical-align: middle;\n",
              "    }\n",
              "\n",
              "    .dataframe tbody tr th {\n",
              "        vertical-align: top;\n",
              "    }\n",
              "\n",
              "    .dataframe thead th {\n",
              "        text-align: right;\n",
              "    }\n",
              "</style>\n",
              "<table border=\"1\" class=\"dataframe\">\n",
              "  <thead>\n",
              "    <tr style=\"text-align: right;\">\n",
              "      <th></th>\n",
              "      <th>account length</th>\n",
              "      <th>international plan</th>\n",
              "      <th>voice mail plan</th>\n",
              "      <th>number vmail messages</th>\n",
              "      <th>total day minutes</th>\n",
              "      <th>total day calls</th>\n",
              "      <th>total day charge</th>\n",
              "      <th>total eve minutes</th>\n",
              "      <th>total eve calls</th>\n",
              "      <th>total eve charge</th>\n",
              "      <th>total night minutes</th>\n",
              "      <th>total night calls</th>\n",
              "      <th>total night charge</th>\n",
              "      <th>total intl minutes</th>\n",
              "      <th>total intl calls</th>\n",
              "      <th>total intl charge</th>\n",
              "      <th>customer service calls</th>\n",
              "      <th>churn</th>\n",
              "      <th>total charge</th>\n",
              "      <th>dummy_AK</th>\n",
              "      <th>dummy_AL</th>\n",
              "      <th>dummy_AR</th>\n",
              "      <th>dummy_AZ</th>\n",
              "      <th>dummy_CA</th>\n",
              "      <th>dummy_CO</th>\n",
              "      <th>dummy_CT</th>\n",
              "      <th>dummy_DC</th>\n",
              "      <th>dummy_DE</th>\n",
              "      <th>dummy_FL</th>\n",
              "      <th>dummy_GA</th>\n",
              "      <th>dummy_HI</th>\n",
              "      <th>dummy_IA</th>\n",
              "      <th>dummy_ID</th>\n",
              "      <th>dummy_IL</th>\n",
              "      <th>dummy_IN</th>\n",
              "      <th>dummy_KS</th>\n",
              "      <th>dummy_KY</th>\n",
              "      <th>dummy_LA</th>\n",
              "      <th>dummy_MA</th>\n",
              "      <th>dummy_MD</th>\n",
              "      <th>dummy_ME</th>\n",
              "      <th>dummy_MI</th>\n",
              "      <th>dummy_MN</th>\n",
              "      <th>dummy_MO</th>\n",
              "      <th>dummy_MS</th>\n",
              "      <th>dummy_MT</th>\n",
              "      <th>dummy_NC</th>\n",
              "      <th>dummy_ND</th>\n",
              "      <th>dummy_NE</th>\n",
              "      <th>dummy_NH</th>\n",
              "      <th>dummy_NJ</th>\n",
              "      <th>dummy_NM</th>\n",
              "      <th>dummy_NV</th>\n",
              "      <th>dummy_NY</th>\n",
              "      <th>dummy_OH</th>\n",
              "      <th>dummy_OK</th>\n",
              "      <th>dummy_OR</th>\n",
              "      <th>dummy_PA</th>\n",
              "      <th>dummy_RI</th>\n",
              "      <th>dummy_SC</th>\n",
              "      <th>dummy_SD</th>\n",
              "      <th>dummy_TN</th>\n",
              "      <th>dummy_TX</th>\n",
              "      <th>dummy_UT</th>\n",
              "      <th>dummy_VA</th>\n",
              "      <th>dummy_VT</th>\n",
              "      <th>dummy_WA</th>\n",
              "      <th>dummy_WI</th>\n",
              "      <th>dummy_WV</th>\n",
              "      <th>dummy_WY</th>\n",
              "    </tr>\n",
              "  </thead>\n",
              "  <tbody>\n",
              "    <tr>\n",
              "      <th>0</th>\n",
              "      <td>128</td>\n",
              "      <td>0</td>\n",
              "      <td>1</td>\n",
              "      <td>25</td>\n",
              "      <td>265.1</td>\n",
              "      <td>110</td>\n",
              "      <td>45.07</td>\n",
              "      <td>197.4</td>\n",
              "      <td>99</td>\n",
              "      <td>16.78</td>\n",
              "      <td>244.7</td>\n",
              "      <td>91</td>\n",
              "      <td>11.01</td>\n",
              "      <td>10.0</td>\n",
              "      <td>3</td>\n",
              "      <td>2.70</td>\n",
              "      <td>1</td>\n",
              "      <td>False</td>\n",
              "      <td>75.56</td>\n",
              "      <td>0</td>\n",
              "      <td>0</td>\n",
              "      <td>0</td>\n",
              "      <td>0</td>\n",
              "      <td>0</td>\n",
              "      <td>0</td>\n",
              "      <td>0</td>\n",
              "      <td>0</td>\n",
              "      <td>0</td>\n",
              "      <td>0</td>\n",
              "      <td>0</td>\n",
              "      <td>0</td>\n",
              "      <td>0</td>\n",
              "      <td>0</td>\n",
              "      <td>0</td>\n",
              "      <td>0</td>\n",
              "      <td>1</td>\n",
              "      <td>0</td>\n",
              "      <td>0</td>\n",
              "      <td>0</td>\n",
              "      <td>0</td>\n",
              "      <td>0</td>\n",
              "      <td>0</td>\n",
              "      <td>0</td>\n",
              "      <td>0</td>\n",
              "      <td>0</td>\n",
              "      <td>0</td>\n",
              "      <td>0</td>\n",
              "      <td>0</td>\n",
              "      <td>0</td>\n",
              "      <td>0</td>\n",
              "      <td>0</td>\n",
              "      <td>0</td>\n",
              "      <td>0</td>\n",
              "      <td>0</td>\n",
              "      <td>0</td>\n",
              "      <td>0</td>\n",
              "      <td>0</td>\n",
              "      <td>0</td>\n",
              "      <td>0</td>\n",
              "      <td>0</td>\n",
              "      <td>0</td>\n",
              "      <td>0</td>\n",
              "      <td>0</td>\n",
              "      <td>0</td>\n",
              "      <td>0</td>\n",
              "      <td>0</td>\n",
              "      <td>0</td>\n",
              "      <td>0</td>\n",
              "      <td>0</td>\n",
              "      <td>0</td>\n",
              "    </tr>\n",
              "    <tr>\n",
              "      <th>1</th>\n",
              "      <td>107</td>\n",
              "      <td>0</td>\n",
              "      <td>1</td>\n",
              "      <td>26</td>\n",
              "      <td>161.6</td>\n",
              "      <td>123</td>\n",
              "      <td>27.47</td>\n",
              "      <td>195.5</td>\n",
              "      <td>103</td>\n",
              "      <td>16.62</td>\n",
              "      <td>254.4</td>\n",
              "      <td>103</td>\n",
              "      <td>11.45</td>\n",
              "      <td>13.7</td>\n",
              "      <td>3</td>\n",
              "      <td>3.70</td>\n",
              "      <td>1</td>\n",
              "      <td>False</td>\n",
              "      <td>59.24</td>\n",
              "      <td>0</td>\n",
              "      <td>0</td>\n",
              "      <td>0</td>\n",
              "      <td>0</td>\n",
              "      <td>0</td>\n",
              "      <td>0</td>\n",
              "      <td>0</td>\n",
              "      <td>0</td>\n",
              "      <td>0</td>\n",
              "      <td>0</td>\n",
              "      <td>0</td>\n",
              "      <td>0</td>\n",
              "      <td>0</td>\n",
              "      <td>0</td>\n",
              "      <td>0</td>\n",
              "      <td>0</td>\n",
              "      <td>0</td>\n",
              "      <td>0</td>\n",
              "      <td>0</td>\n",
              "      <td>0</td>\n",
              "      <td>0</td>\n",
              "      <td>0</td>\n",
              "      <td>0</td>\n",
              "      <td>0</td>\n",
              "      <td>0</td>\n",
              "      <td>0</td>\n",
              "      <td>0</td>\n",
              "      <td>0</td>\n",
              "      <td>0</td>\n",
              "      <td>0</td>\n",
              "      <td>0</td>\n",
              "      <td>0</td>\n",
              "      <td>0</td>\n",
              "      <td>0</td>\n",
              "      <td>0</td>\n",
              "      <td>1</td>\n",
              "      <td>0</td>\n",
              "      <td>0</td>\n",
              "      <td>0</td>\n",
              "      <td>0</td>\n",
              "      <td>0</td>\n",
              "      <td>0</td>\n",
              "      <td>0</td>\n",
              "      <td>0</td>\n",
              "      <td>0</td>\n",
              "      <td>0</td>\n",
              "      <td>0</td>\n",
              "      <td>0</td>\n",
              "      <td>0</td>\n",
              "      <td>0</td>\n",
              "      <td>0</td>\n",
              "    </tr>\n",
              "    <tr>\n",
              "      <th>2</th>\n",
              "      <td>137</td>\n",
              "      <td>0</td>\n",
              "      <td>0</td>\n",
              "      <td>0</td>\n",
              "      <td>243.4</td>\n",
              "      <td>114</td>\n",
              "      <td>41.38</td>\n",
              "      <td>121.2</td>\n",
              "      <td>110</td>\n",
              "      <td>10.30</td>\n",
              "      <td>162.6</td>\n",
              "      <td>104</td>\n",
              "      <td>7.32</td>\n",
              "      <td>12.2</td>\n",
              "      <td>5</td>\n",
              "      <td>3.29</td>\n",
              "      <td>0</td>\n",
              "      <td>False</td>\n",
              "      <td>62.29</td>\n",
              "      <td>0</td>\n",
              "      <td>0</td>\n",
              "      <td>0</td>\n",
              "      <td>0</td>\n",
              "      <td>0</td>\n",
              "      <td>0</td>\n",
              "      <td>0</td>\n",
              "      <td>0</td>\n",
              "      <td>0</td>\n",
              "      <td>0</td>\n",
              "      <td>0</td>\n",
              "      <td>0</td>\n",
              "      <td>0</td>\n",
              "      <td>0</td>\n",
              "      <td>0</td>\n",
              "      <td>0</td>\n",
              "      <td>0</td>\n",
              "      <td>0</td>\n",
              "      <td>0</td>\n",
              "      <td>0</td>\n",
              "      <td>0</td>\n",
              "      <td>0</td>\n",
              "      <td>0</td>\n",
              "      <td>0</td>\n",
              "      <td>0</td>\n",
              "      <td>0</td>\n",
              "      <td>0</td>\n",
              "      <td>0</td>\n",
              "      <td>0</td>\n",
              "      <td>0</td>\n",
              "      <td>0</td>\n",
              "      <td>1</td>\n",
              "      <td>0</td>\n",
              "      <td>0</td>\n",
              "      <td>0</td>\n",
              "      <td>0</td>\n",
              "      <td>0</td>\n",
              "      <td>0</td>\n",
              "      <td>0</td>\n",
              "      <td>0</td>\n",
              "      <td>0</td>\n",
              "      <td>0</td>\n",
              "      <td>0</td>\n",
              "      <td>0</td>\n",
              "      <td>0</td>\n",
              "      <td>0</td>\n",
              "      <td>0</td>\n",
              "      <td>0</td>\n",
              "      <td>0</td>\n",
              "      <td>0</td>\n",
              "      <td>0</td>\n",
              "    </tr>\n",
              "    <tr>\n",
              "      <th>3</th>\n",
              "      <td>84</td>\n",
              "      <td>1</td>\n",
              "      <td>0</td>\n",
              "      <td>0</td>\n",
              "      <td>299.4</td>\n",
              "      <td>71</td>\n",
              "      <td>50.90</td>\n",
              "      <td>61.9</td>\n",
              "      <td>88</td>\n",
              "      <td>5.26</td>\n",
              "      <td>196.9</td>\n",
              "      <td>89</td>\n",
              "      <td>8.86</td>\n",
              "      <td>6.6</td>\n",
              "      <td>7</td>\n",
              "      <td>1.78</td>\n",
              "      <td>2</td>\n",
              "      <td>False</td>\n",
              "      <td>66.80</td>\n",
              "      <td>0</td>\n",
              "      <td>0</td>\n",
              "      <td>0</td>\n",
              "      <td>0</td>\n",
              "      <td>0</td>\n",
              "      <td>0</td>\n",
              "      <td>0</td>\n",
              "      <td>0</td>\n",
              "      <td>0</td>\n",
              "      <td>0</td>\n",
              "      <td>0</td>\n",
              "      <td>0</td>\n",
              "      <td>0</td>\n",
              "      <td>0</td>\n",
              "      <td>0</td>\n",
              "      <td>0</td>\n",
              "      <td>0</td>\n",
              "      <td>0</td>\n",
              "      <td>0</td>\n",
              "      <td>0</td>\n",
              "      <td>0</td>\n",
              "      <td>0</td>\n",
              "      <td>0</td>\n",
              "      <td>0</td>\n",
              "      <td>0</td>\n",
              "      <td>0</td>\n",
              "      <td>0</td>\n",
              "      <td>0</td>\n",
              "      <td>0</td>\n",
              "      <td>0</td>\n",
              "      <td>0</td>\n",
              "      <td>0</td>\n",
              "      <td>0</td>\n",
              "      <td>0</td>\n",
              "      <td>0</td>\n",
              "      <td>1</td>\n",
              "      <td>0</td>\n",
              "      <td>0</td>\n",
              "      <td>0</td>\n",
              "      <td>0</td>\n",
              "      <td>0</td>\n",
              "      <td>0</td>\n",
              "      <td>0</td>\n",
              "      <td>0</td>\n",
              "      <td>0</td>\n",
              "      <td>0</td>\n",
              "      <td>0</td>\n",
              "      <td>0</td>\n",
              "      <td>0</td>\n",
              "      <td>0</td>\n",
              "      <td>0</td>\n",
              "    </tr>\n",
              "    <tr>\n",
              "      <th>4</th>\n",
              "      <td>75</td>\n",
              "      <td>1</td>\n",
              "      <td>0</td>\n",
              "      <td>0</td>\n",
              "      <td>166.7</td>\n",
              "      <td>113</td>\n",
              "      <td>28.34</td>\n",
              "      <td>148.3</td>\n",
              "      <td>122</td>\n",
              "      <td>12.61</td>\n",
              "      <td>186.9</td>\n",
              "      <td>121</td>\n",
              "      <td>8.41</td>\n",
              "      <td>10.1</td>\n",
              "      <td>3</td>\n",
              "      <td>2.73</td>\n",
              "      <td>3</td>\n",
              "      <td>False</td>\n",
              "      <td>52.09</td>\n",
              "      <td>0</td>\n",
              "      <td>0</td>\n",
              "      <td>0</td>\n",
              "      <td>0</td>\n",
              "      <td>0</td>\n",
              "      <td>0</td>\n",
              "      <td>0</td>\n",
              "      <td>0</td>\n",
              "      <td>0</td>\n",
              "      <td>0</td>\n",
              "      <td>0</td>\n",
              "      <td>0</td>\n",
              "      <td>0</td>\n",
              "      <td>0</td>\n",
              "      <td>0</td>\n",
              "      <td>0</td>\n",
              "      <td>0</td>\n",
              "      <td>0</td>\n",
              "      <td>0</td>\n",
              "      <td>0</td>\n",
              "      <td>0</td>\n",
              "      <td>0</td>\n",
              "      <td>0</td>\n",
              "      <td>0</td>\n",
              "      <td>0</td>\n",
              "      <td>0</td>\n",
              "      <td>0</td>\n",
              "      <td>0</td>\n",
              "      <td>0</td>\n",
              "      <td>0</td>\n",
              "      <td>0</td>\n",
              "      <td>0</td>\n",
              "      <td>0</td>\n",
              "      <td>0</td>\n",
              "      <td>0</td>\n",
              "      <td>0</td>\n",
              "      <td>1</td>\n",
              "      <td>0</td>\n",
              "      <td>0</td>\n",
              "      <td>0</td>\n",
              "      <td>0</td>\n",
              "      <td>0</td>\n",
              "      <td>0</td>\n",
              "      <td>0</td>\n",
              "      <td>0</td>\n",
              "      <td>0</td>\n",
              "      <td>0</td>\n",
              "      <td>0</td>\n",
              "      <td>0</td>\n",
              "      <td>0</td>\n",
              "      <td>0</td>\n",
              "    </tr>\n",
              "  </tbody>\n",
              "</table>\n",
              "</div>"
            ],
            "text/plain": [
              "   account length  international plan  ...  dummy_WV  dummy_WY\n",
              "0             128                   0  ...         0         0\n",
              "1             107                   0  ...         0         0\n",
              "2             137                   0  ...         0         0\n",
              "3              84                   1  ...         0         0\n",
              "4              75                   1  ...         0         0\n",
              "\n",
              "[5 rows x 70 columns]"
            ]
          },
          "metadata": {
            "tags": []
          },
          "execution_count": 11
        }
      ]
    },
    {
      "cell_type": "markdown",
      "metadata": {
        "id": "Gp3TAnQoDWbC",
        "colab_type": "text"
      },
      "source": [
        "# Deal with Continuous features"
      ]
    },
    {
      "cell_type": "markdown",
      "metadata": {
        "id": "9DDlR99o1Vwl",
        "colab_type": "text"
      },
      "source": [
        "### Visualize Continuous features"
      ]
    },
    {
      "cell_type": "code",
      "metadata": {
        "id": "l8AJ-pdaDWbD",
        "colab_type": "code",
        "colab": {}
      },
      "source": [
        "# Continuous features\n",
        "con_feats = ['account length', 'number vmail messages', 'total day minutes', 'total day calls', \n",
        "             'total day charge', 'total eve minutes', 'total eve calls', 'total eve charge',\n",
        "             'total night minutes', 'total night calls', 'total night charge', 'total intl minutes',\n",
        "             'total intl calls', 'total intl charge', 'customer service calls', 'total charge']"
      ],
      "execution_count": null,
      "outputs": []
    },
    {
      "cell_type": "code",
      "metadata": {
        "id": "5UAekQ_BDWbF",
        "colab_type": "code",
        "colab": {
          "base_uri": "https://localhost:8080/",
          "height": 1000
        },
        "outputId": "47b8cb58-7380-42c5-8ded-ec4f03bf4098"
      },
      "source": [
        "fig, ax = plt.subplots(8, 2, figsize=(20, 30))\n",
        "df[df.churn == False][con_feats].hist(bins=35, color=\"steelblue\", alpha=0.5, ax=ax)\n",
        "df[df.churn == True][con_feats].hist(bins=35, color=\"darksalmon\", alpha=0.7, ax=ax)\n",
        "plt.legend(['No Churn', 'Churn'])"
      ],
      "execution_count": null,
      "outputs": [
        {
          "output_type": "execute_result",
          "data": {
            "text/plain": [
              "<matplotlib.legend.Legend at 0x7f7b31546f98>"
            ]
          },
          "metadata": {
            "tags": []
          },
          "execution_count": 13
        },
        {
          "output_type": "display_data",
          "data": {
            "image/png": "[encoded data removed]",
            "text/plain": [
              "<Figure size 1440x2160 with 16 Axes>"
            ]
          },
          "metadata": {
            "tags": []
          }
        }
      ]
    },
    {
      "cell_type": "markdown",
      "metadata": {
        "id": "BDch8N38DWbI",
        "colab_type": "text"
      },
      "source": [
        "#### General comments on the visualization \n",
        "* 'customer service calls' is positively skewed. \n",
        "* In the'total intl calls' histogram, both churned and non-churned users are having a similar number of international calls\n",
        "* In the histograms for 'total day minutes', 'total_day_charge', and 'total charge', the customer with higher values in these features are more likely to churn \n",
        "* In the 'total intl minutes' histogram, churned customers tend to have longer international calls (longer in minutes) than non-churned customers\n",
        "* In the 'number vmail messages' histogram, the users who did not churn tends to have more voice mail messages"
      ]
    },
    {
      "cell_type": "markdown",
      "metadata": {
        "id": "BFGgzZ1B1cTU",
        "colab_type": "text"
      },
      "source": [
        "### Scale continuous data with StandardScaler"
      ]
    },
    {
      "cell_type": "code",
      "metadata": {
        "id": "vTozYO9e1i8t",
        "colab_type": "code",
        "colab": {}
      },
      "source": [
        "ss = StandardScaler()\n",
        "scaled = ss.fit_transform(df[con_feats])\n",
        "scaled = pd.DataFrame(scaled, columns=con_feats)"
      ],
      "execution_count": null,
      "outputs": []
    },
    {
      "cell_type": "code",
      "metadata": {
        "id": "IWNuUzw23neD",
        "colab_type": "code",
        "colab": {
          "base_uri": "https://localhost:8080/",
          "height": 250
        },
        "outputId": "170d4dac-8229-45ac-ccf2-2f9d43b97db0"
      },
      "source": [
        "# Drop the original values and merge the scaled values for continuous columns\n",
        "df1 = df.drop(columns=con_feats, axis = 1)\n",
        "df1 = df1.merge(scaled, left_index=True, right_index=True, how = \"left\")\n",
        "df1.head()"
      ],
      "execution_count": null,
      "outputs": [
        {
          "output_type": "execute_result",
          "data": {
            "text/html": [
              "<div>\n",
              "<style scoped>\n",
              "    .dataframe tbody tr th:only-of-type {\n",
              "        vertical-align: middle;\n",
              "    }\n",
              "\n",
              "    .dataframe tbody tr th {\n",
              "        vertical-align: top;\n",
              "    }\n",
              "\n",
              "    .dataframe thead th {\n",
              "        text-align: right;\n",
              "    }\n",
              "</style>\n",
              "<table border=\"1\" class=\"dataframe\">\n",
              "  <thead>\n",
              "    <tr style=\"text-align: right;\">\n",
              "      <th></th>\n",
              "      <th>international plan</th>\n",
              "      <th>voice mail plan</th>\n",
              "      <th>churn</th>\n",
              "      <th>dummy_AK</th>\n",
              "      <th>dummy_AL</th>\n",
              "      <th>dummy_AR</th>\n",
              "      <th>dummy_AZ</th>\n",
              "      <th>dummy_CA</th>\n",
              "      <th>dummy_CO</th>\n",
              "      <th>dummy_CT</th>\n",
              "      <th>dummy_DC</th>\n",
              "      <th>dummy_DE</th>\n",
              "      <th>dummy_FL</th>\n",
              "      <th>dummy_GA</th>\n",
              "      <th>dummy_HI</th>\n",
              "      <th>dummy_IA</th>\n",
              "      <th>dummy_ID</th>\n",
              "      <th>dummy_IL</th>\n",
              "      <th>dummy_IN</th>\n",
              "      <th>dummy_KS</th>\n",
              "      <th>dummy_KY</th>\n",
              "      <th>dummy_LA</th>\n",
              "      <th>dummy_MA</th>\n",
              "      <th>dummy_MD</th>\n",
              "      <th>dummy_ME</th>\n",
              "      <th>dummy_MI</th>\n",
              "      <th>dummy_MN</th>\n",
              "      <th>dummy_MO</th>\n",
              "      <th>dummy_MS</th>\n",
              "      <th>dummy_MT</th>\n",
              "      <th>dummy_NC</th>\n",
              "      <th>dummy_ND</th>\n",
              "      <th>dummy_NE</th>\n",
              "      <th>dummy_NH</th>\n",
              "      <th>dummy_NJ</th>\n",
              "      <th>dummy_NM</th>\n",
              "      <th>dummy_NV</th>\n",
              "      <th>dummy_NY</th>\n",
              "      <th>dummy_OH</th>\n",
              "      <th>dummy_OK</th>\n",
              "      <th>dummy_OR</th>\n",
              "      <th>dummy_PA</th>\n",
              "      <th>dummy_RI</th>\n",
              "      <th>dummy_SC</th>\n",
              "      <th>dummy_SD</th>\n",
              "      <th>dummy_TN</th>\n",
              "      <th>dummy_TX</th>\n",
              "      <th>dummy_UT</th>\n",
              "      <th>dummy_VA</th>\n",
              "      <th>dummy_VT</th>\n",
              "      <th>dummy_WA</th>\n",
              "      <th>dummy_WI</th>\n",
              "      <th>dummy_WV</th>\n",
              "      <th>dummy_WY</th>\n",
              "      <th>account length</th>\n",
              "      <th>number vmail messages</th>\n",
              "      <th>total day minutes</th>\n",
              "      <th>total day calls</th>\n",
              "      <th>total day charge</th>\n",
              "      <th>total eve minutes</th>\n",
              "      <th>total eve calls</th>\n",
              "      <th>total eve charge</th>\n",
              "      <th>total night minutes</th>\n",
              "      <th>total night calls</th>\n",
              "      <th>total night charge</th>\n",
              "      <th>total intl minutes</th>\n",
              "      <th>total intl calls</th>\n",
              "      <th>total intl charge</th>\n",
              "      <th>customer service calls</th>\n",
              "      <th>total charge</th>\n",
              "    </tr>\n",
              "  </thead>\n",
              "  <tbody>\n",
              "    <tr>\n",
              "      <th>0</th>\n",
              "      <td>0</td>\n",
              "      <td>1</td>\n",
              "      <td>False</td>\n",
              "      <td>0</td>\n",
              "      <td>0</td>\n",
              "      <td>0</td>\n",
              "      <td>0</td>\n",
              "      <td>0</td>\n",
              "      <td>0</td>\n",
              "      <td>0</td>\n",
              "      <td>0</td>\n",
              "      <td>0</td>\n",
              "      <td>0</td>\n",
              "      <td>0</td>\n",
              "      <td>0</td>\n",
              "      <td>0</td>\n",
              "      <td>0</td>\n",
              "      <td>0</td>\n",
              "      <td>0</td>\n",
              "      <td>1</td>\n",
              "      <td>0</td>\n",
              "      <td>0</td>\n",
              "      <td>0</td>\n",
              "      <td>0</td>\n",
              "      <td>0</td>\n",
              "      <td>0</td>\n",
              "      <td>0</td>\n",
              "      <td>0</td>\n",
              "      <td>0</td>\n",
              "      <td>0</td>\n",
              "      <td>0</td>\n",
              "      <td>0</td>\n",
              "      <td>0</td>\n",
              "      <td>0</td>\n",
              "      <td>0</td>\n",
              "      <td>0</td>\n",
              "      <td>0</td>\n",
              "      <td>0</td>\n",
              "      <td>0</td>\n",
              "      <td>0</td>\n",
              "      <td>0</td>\n",
              "      <td>0</td>\n",
              "      <td>0</td>\n",
              "      <td>0</td>\n",
              "      <td>0</td>\n",
              "      <td>0</td>\n",
              "      <td>0</td>\n",
              "      <td>0</td>\n",
              "      <td>0</td>\n",
              "      <td>0</td>\n",
              "      <td>0</td>\n",
              "      <td>0</td>\n",
              "      <td>0</td>\n",
              "      <td>0</td>\n",
              "      <td>0.684493</td>\n",
              "      <td>1.231227</td>\n",
              "      <td>1.583033</td>\n",
              "      <td>0.484641</td>\n",
              "      <td>1.583309</td>\n",
              "      <td>-0.070841</td>\n",
              "      <td>-0.056774</td>\n",
              "      <td>-0.070657</td>\n",
              "      <td>0.887602</td>\n",
              "      <td>-0.463600</td>\n",
              "      <td>0.886873</td>\n",
              "      <td>-0.109483</td>\n",
              "      <td>-0.624440</td>\n",
              "      <td>-0.110199</td>\n",
              "      <td>-0.427540</td>\n",
              "      <td>1.553196</td>\n",
              "    </tr>\n",
              "    <tr>\n",
              "      <th>1</th>\n",
              "      <td>0</td>\n",
              "      <td>1</td>\n",
              "      <td>False</td>\n",
              "      <td>0</td>\n",
              "      <td>0</td>\n",
              "      <td>0</td>\n",
              "      <td>0</td>\n",
              "      <td>0</td>\n",
              "      <td>0</td>\n",
              "      <td>0</td>\n",
              "      <td>0</td>\n",
              "      <td>0</td>\n",
              "      <td>0</td>\n",
              "      <td>0</td>\n",
              "      <td>0</td>\n",
              "      <td>0</td>\n",
              "      <td>0</td>\n",
              "      <td>0</td>\n",
              "      <td>0</td>\n",
              "      <td>0</td>\n",
              "      <td>0</td>\n",
              "      <td>0</td>\n",
              "      <td>0</td>\n",
              "      <td>0</td>\n",
              "      <td>0</td>\n",
              "      <td>0</td>\n",
              "      <td>0</td>\n",
              "      <td>0</td>\n",
              "      <td>0</td>\n",
              "      <td>0</td>\n",
              "      <td>0</td>\n",
              "      <td>0</td>\n",
              "      <td>0</td>\n",
              "      <td>0</td>\n",
              "      <td>0</td>\n",
              "      <td>0</td>\n",
              "      <td>0</td>\n",
              "      <td>0</td>\n",
              "      <td>1</td>\n",
              "      <td>0</td>\n",
              "      <td>0</td>\n",
              "      <td>0</td>\n",
              "      <td>0</td>\n",
              "      <td>0</td>\n",
              "      <td>0</td>\n",
              "      <td>0</td>\n",
              "      <td>0</td>\n",
              "      <td>0</td>\n",
              "      <td>0</td>\n",
              "      <td>0</td>\n",
              "      <td>0</td>\n",
              "      <td>0</td>\n",
              "      <td>0</td>\n",
              "      <td>0</td>\n",
              "      <td>0.154991</td>\n",
              "      <td>1.304175</td>\n",
              "      <td>-0.347270</td>\n",
              "      <td>1.140403</td>\n",
              "      <td>-0.347550</td>\n",
              "      <td>-0.108651</td>\n",
              "      <td>0.146279</td>\n",
              "      <td>-0.108116</td>\n",
              "      <td>1.082106</td>\n",
              "      <td>0.152308</td>\n",
              "      <td>1.082933</td>\n",
              "      <td>1.272021</td>\n",
              "      <td>-0.624440</td>\n",
              "      <td>1.272751</td>\n",
              "      <td>-0.427540</td>\n",
              "      <td>-0.027025</td>\n",
              "    </tr>\n",
              "    <tr>\n",
              "      <th>2</th>\n",
              "      <td>0</td>\n",
              "      <td>0</td>\n",
              "      <td>False</td>\n",
              "      <td>0</td>\n",
              "      <td>0</td>\n",
              "      <td>0</td>\n",
              "      <td>0</td>\n",
              "      <td>0</td>\n",
              "      <td>0</td>\n",
              "      <td>0</td>\n",
              "      <td>0</td>\n",
              "      <td>0</td>\n",
              "      <td>0</td>\n",
              "      <td>0</td>\n",
              "      <td>0</td>\n",
              "      <td>0</td>\n",
              "      <td>0</td>\n",
              "      <td>0</td>\n",
              "      <td>0</td>\n",
              "      <td>0</td>\n",
              "      <td>0</td>\n",
              "      <td>0</td>\n",
              "      <td>0</td>\n",
              "      <td>0</td>\n",
              "      <td>0</td>\n",
              "      <td>0</td>\n",
              "      <td>0</td>\n",
              "      <td>0</td>\n",
              "      <td>0</td>\n",
              "      <td>0</td>\n",
              "      <td>0</td>\n",
              "      <td>0</td>\n",
              "      <td>0</td>\n",
              "      <td>0</td>\n",
              "      <td>1</td>\n",
              "      <td>0</td>\n",
              "      <td>0</td>\n",
              "      <td>0</td>\n",
              "      <td>0</td>\n",
              "      <td>0</td>\n",
              "      <td>0</td>\n",
              "      <td>0</td>\n",
              "      <td>0</td>\n",
              "      <td>0</td>\n",
              "      <td>0</td>\n",
              "      <td>0</td>\n",
              "      <td>0</td>\n",
              "      <td>0</td>\n",
              "      <td>0</td>\n",
              "      <td>0</td>\n",
              "      <td>0</td>\n",
              "      <td>0</td>\n",
              "      <td>0</td>\n",
              "      <td>0</td>\n",
              "      <td>0.911422</td>\n",
              "      <td>-0.592465</td>\n",
              "      <td>1.178322</td>\n",
              "      <td>0.686414</td>\n",
              "      <td>1.178487</td>\n",
              "      <td>-1.587209</td>\n",
              "      <td>0.501621</td>\n",
              "      <td>-1.587729</td>\n",
              "      <td>-0.758668</td>\n",
              "      <td>0.203634</td>\n",
              "      <td>-0.757354</td>\n",
              "      <td>0.711952</td>\n",
              "      <td>0.217444</td>\n",
              "      <td>0.705742</td>\n",
              "      <td>-1.199289</td>\n",
              "      <td>0.268298</td>\n",
              "    </tr>\n",
              "    <tr>\n",
              "      <th>3</th>\n",
              "      <td>1</td>\n",
              "      <td>0</td>\n",
              "      <td>False</td>\n",
              "      <td>0</td>\n",
              "      <td>0</td>\n",
              "      <td>0</td>\n",
              "      <td>0</td>\n",
              "      <td>0</td>\n",
              "      <td>0</td>\n",
              "      <td>0</td>\n",
              "      <td>0</td>\n",
              "      <td>0</td>\n",
              "      <td>0</td>\n",
              "      <td>0</td>\n",
              "      <td>0</td>\n",
              "      <td>0</td>\n",
              "      <td>0</td>\n",
              "      <td>0</td>\n",
              "      <td>0</td>\n",
              "      <td>0</td>\n",
              "      <td>0</td>\n",
              "      <td>0</td>\n",
              "      <td>0</td>\n",
              "      <td>0</td>\n",
              "      <td>0</td>\n",
              "      <td>0</td>\n",
              "      <td>0</td>\n",
              "      <td>0</td>\n",
              "      <td>0</td>\n",
              "      <td>0</td>\n",
              "      <td>0</td>\n",
              "      <td>0</td>\n",
              "      <td>0</td>\n",
              "      <td>0</td>\n",
              "      <td>0</td>\n",
              "      <td>0</td>\n",
              "      <td>0</td>\n",
              "      <td>0</td>\n",
              "      <td>1</td>\n",
              "      <td>0</td>\n",
              "      <td>0</td>\n",
              "      <td>0</td>\n",
              "      <td>0</td>\n",
              "      <td>0</td>\n",
              "      <td>0</td>\n",
              "      <td>0</td>\n",
              "      <td>0</td>\n",
              "      <td>0</td>\n",
              "      <td>0</td>\n",
              "      <td>0</td>\n",
              "      <td>0</td>\n",
              "      <td>0</td>\n",
              "      <td>0</td>\n",
              "      <td>0</td>\n",
              "      <td>-0.424939</td>\n",
              "      <td>-0.592465</td>\n",
              "      <td>2.222738</td>\n",
              "      <td>-1.482643</td>\n",
              "      <td>2.222906</td>\n",
              "      <td>-2.767269</td>\n",
              "      <td>-0.615168</td>\n",
              "      <td>-2.767673</td>\n",
              "      <td>-0.070884</td>\n",
              "      <td>-0.566251</td>\n",
              "      <td>-0.071145</td>\n",
              "      <td>-1.378973</td>\n",
              "      <td>1.059328</td>\n",
              "      <td>-1.382513</td>\n",
              "      <td>0.344210</td>\n",
              "      <td>0.704989</td>\n",
              "    </tr>\n",
              "    <tr>\n",
              "      <th>4</th>\n",
              "      <td>1</td>\n",
              "      <td>0</td>\n",
              "      <td>False</td>\n",
              "      <td>0</td>\n",
              "      <td>0</td>\n",
              "      <td>0</td>\n",
              "      <td>0</td>\n",
              "      <td>0</td>\n",
              "      <td>0</td>\n",
              "      <td>0</td>\n",
              "      <td>0</td>\n",
              "      <td>0</td>\n",
              "      <td>0</td>\n",
              "      <td>0</td>\n",
              "      <td>0</td>\n",
              "      <td>0</td>\n",
              "      <td>0</td>\n",
              "      <td>0</td>\n",
              "      <td>0</td>\n",
              "      <td>0</td>\n",
              "      <td>0</td>\n",
              "      <td>0</td>\n",
              "      <td>0</td>\n",
              "      <td>0</td>\n",
              "      <td>0</td>\n",
              "      <td>0</td>\n",
              "      <td>0</td>\n",
              "      <td>0</td>\n",
              "      <td>0</td>\n",
              "      <td>0</td>\n",
              "      <td>0</td>\n",
              "      <td>0</td>\n",
              "      <td>0</td>\n",
              "      <td>0</td>\n",
              "      <td>0</td>\n",
              "      <td>0</td>\n",
              "      <td>0</td>\n",
              "      <td>0</td>\n",
              "      <td>0</td>\n",
              "      <td>1</td>\n",
              "      <td>0</td>\n",
              "      <td>0</td>\n",
              "      <td>0</td>\n",
              "      <td>0</td>\n",
              "      <td>0</td>\n",
              "      <td>0</td>\n",
              "      <td>0</td>\n",
              "      <td>0</td>\n",
              "      <td>0</td>\n",
              "      <td>0</td>\n",
              "      <td>0</td>\n",
              "      <td>0</td>\n",
              "      <td>0</td>\n",
              "      <td>0</td>\n",
              "      <td>-0.651869</td>\n",
              "      <td>-0.592465</td>\n",
              "      <td>-0.252154</td>\n",
              "      <td>0.635971</td>\n",
              "      <td>-0.252104</td>\n",
              "      <td>-1.047923</td>\n",
              "      <td>1.110778</td>\n",
              "      <td>-1.046921</td>\n",
              "      <td>-0.271405</td>\n",
              "      <td>1.076169</td>\n",
              "      <td>-0.271661</td>\n",
              "      <td>-0.072145</td>\n",
              "      <td>-0.624440</td>\n",
              "      <td>-0.068711</td>\n",
              "      <td>1.115959</td>\n",
              "      <td>-0.719340</td>\n",
              "    </tr>\n",
              "  </tbody>\n",
              "</table>\n",
              "</div>"
            ],
            "text/plain": [
              "   international plan  voice mail plan  ...  customer service calls  total charge\n",
              "0                   0                1  ...               -0.427540      1.553196\n",
              "1                   0                1  ...               -0.427540     -0.027025\n",
              "2                   0                0  ...               -1.199289      0.268298\n",
              "3                   1                0  ...                0.344210      0.704989\n",
              "4                   1                0  ...                1.115959     -0.719340\n",
              "\n",
              "[5 rows x 70 columns]"
            ]
          },
          "metadata": {
            "tags": []
          },
          "execution_count": 15
        }
      ]
    },
    {
      "cell_type": "markdown",
      "metadata": {
        "id": "bsI1mRiNDWcN",
        "colab_type": "text"
      },
      "source": [
        "# Feature Selection by Statsmodel's Ordinary Least Squares (OLS)"
      ]
    },
    {
      "cell_type": "code",
      "metadata": {
        "id": "uqyevwcHDWcN",
        "colab_type": "code",
        "colab": {
          "base_uri": "https://localhost:8080/",
          "height": 1000
        },
        "outputId": "cc34d5ab-b26a-4bfe-edf9-5f44d449f5ea"
      },
      "source": [
        "# Define features X and target y\n",
        "y = df1['churn']\n",
        "X = df1.drop('churn', axis=1)\n",
        "\n",
        "# Define the intercept\n",
        "X = sm.add_constant(X)\n",
        "\n",
        "# Fit a model\n",
        "model = sm.OLS(y, X)\n",
        "result = model.fit()\n",
        "\n",
        "# Summarize results\n",
        "result.summary()"
      ],
      "execution_count": null,
      "outputs": [
        {
          "output_type": "execute_result",
          "data": {
            "text/html": [
              "<table class=\"simpletable\">\n",
              "<caption>OLS Regression Results</caption>\n",
              "<tr>\n",
              "  <th>Dep. Variable:</th>          <td>churn</td>      <th>  R-squared:         </th> <td>   0.197</td> \n",
              "</tr>\n",
              "<tr>\n",
              "  <th>Model:</th>                   <td>OLS</td>       <th>  Adj. R-squared:    </th> <td>   0.181</td> \n",
              "</tr>\n",
              "<tr>\n",
              "  <th>Method:</th>             <td>Least Squares</td>  <th>  F-statistic:       </th> <td>   11.72</td> \n",
              "</tr>\n",
              "<tr>\n",
              "  <th>Date:</th>             <td>Thu, 16 Jul 2020</td> <th>  Prob (F-statistic):</th> <td>6.12e-108</td>\n",
              "</tr>\n",
              "<tr>\n",
              "  <th>Time:</th>                 <td>20:08:19</td>     <th>  Log-Likelihood:    </th> <td> -853.75</td> \n",
              "</tr>\n",
              "<tr>\n",
              "  <th>No. Observations:</th>      <td>  3260</td>      <th>  AIC:               </th> <td>   1844.</td> \n",
              "</tr>\n",
              "<tr>\n",
              "  <th>Df Residuals:</th>          <td>  3192</td>      <th>  BIC:               </th> <td>   2258.</td> \n",
              "</tr>\n",
              "<tr>\n",
              "  <th>Df Model:</th>              <td>    67</td>      <th>                     </th>     <td> </td>    \n",
              "</tr>\n",
              "<tr>\n",
              "  <th>Covariance Type:</th>      <td>nonrobust</td>    <th>                     </th>     <td> </td>    \n",
              "</tr>\n",
              "</table>\n",
              "<table class=\"simpletable\">\n",
              "<tr>\n",
              "             <td></td>               <th>coef</th>     <th>std err</th>      <th>t</th>      <th>P>|t|</th>  <th>[0.025</th>    <th>0.975]</th>  \n",
              "</tr>\n",
              "<tr>\n",
              "  <th>const</th>                  <td>    0.1513</td> <td>    0.013</td> <td>   11.472</td> <td> 0.000</td> <td>    0.125</td> <td>    0.177</td>\n",
              "</tr>\n",
              "<tr>\n",
              "  <th>international plan</th>     <td>    0.3021</td> <td>    0.019</td> <td>   15.813</td> <td> 0.000</td> <td>    0.265</td> <td>    0.340</td>\n",
              "</tr>\n",
              "<tr>\n",
              "  <th>voice mail plan</th>        <td>   -0.1410</td> <td>    0.043</td> <td>   -3.253</td> <td> 0.001</td> <td>   -0.226</td> <td>   -0.056</td>\n",
              "</tr>\n",
              "<tr>\n",
              "  <th>dummy_AK</th>               <td>   -0.0524</td> <td>    0.044</td> <td>   -1.187</td> <td> 0.235</td> <td>   -0.139</td> <td>    0.034</td>\n",
              "</tr>\n",
              "<tr>\n",
              "  <th>dummy_AL</th>               <td>   -0.0390</td> <td>    0.035</td> <td>   -1.102</td> <td> 0.270</td> <td>   -0.108</td> <td>    0.030</td>\n",
              "</tr>\n",
              "<tr>\n",
              "  <th>dummy_AR</th>               <td>    0.0329</td> <td>    0.043</td> <td>    0.760</td> <td> 0.447</td> <td>   -0.052</td> <td>    0.118</td>\n",
              "</tr>\n",
              "<tr>\n",
              "  <th>dummy_AZ</th>               <td>   -0.0470</td> <td>    0.040</td> <td>   -1.173</td> <td> 0.241</td> <td>   -0.125</td> <td>    0.032</td>\n",
              "</tr>\n",
              "<tr>\n",
              "  <th>dummy_CA</th>               <td>    0.1294</td> <td>    0.055</td> <td>    2.334</td> <td> 0.020</td> <td>    0.021</td> <td>    0.238</td>\n",
              "</tr>\n",
              "<tr>\n",
              "  <th>dummy_CO</th>               <td>   -0.0154</td> <td>    0.039</td> <td>   -0.394</td> <td> 0.694</td> <td>   -0.092</td> <td>    0.061</td>\n",
              "</tr>\n",
              "<tr>\n",
              "  <th>dummy_CT</th>               <td>    0.0210</td> <td>    0.037</td> <td>    0.571</td> <td> 0.568</td> <td>   -0.051</td> <td>    0.093</td>\n",
              "</tr>\n",
              "<tr>\n",
              "  <th>dummy_DC</th>               <td>   -0.0268</td> <td>    0.043</td> <td>   -0.625</td> <td> 0.532</td> <td>   -0.111</td> <td>    0.057</td>\n",
              "</tr>\n",
              "<tr>\n",
              "  <th>dummy_DE</th>               <td>   -0.0208</td> <td>    0.040</td> <td>   -0.515</td> <td> 0.606</td> <td>   -0.100</td> <td>    0.058</td>\n",
              "</tr>\n",
              "<tr>\n",
              "  <th>dummy_FL</th>               <td>   -0.0409</td> <td>    0.040</td> <td>   -1.012</td> <td> 0.312</td> <td>   -0.120</td> <td>    0.038</td>\n",
              "</tr>\n",
              "<tr>\n",
              "  <th>dummy_GA</th>               <td>   -0.0109</td> <td>    0.043</td> <td>   -0.252</td> <td> 0.801</td> <td>   -0.096</td> <td>    0.074</td>\n",
              "</tr>\n",
              "<tr>\n",
              "  <th>dummy_HI</th>               <td>   -0.0627</td> <td>    0.044</td> <td>   -1.435</td> <td> 0.151</td> <td>   -0.148</td> <td>    0.023</td>\n",
              "</tr>\n",
              "<tr>\n",
              "  <th>dummy_IA</th>               <td>   -0.0383</td> <td>    0.047</td> <td>   -0.807</td> <td> 0.420</td> <td>   -0.131</td> <td>    0.055</td>\n",
              "</tr>\n",
              "<tr>\n",
              "  <th>dummy_ID</th>               <td>   -0.0064</td> <td>    0.038</td> <td>   -0.170</td> <td> 0.865</td> <td>   -0.080</td> <td>    0.068</td>\n",
              "</tr>\n",
              "<tr>\n",
              "  <th>dummy_IL</th>               <td>   -0.0720</td> <td>    0.041</td> <td>   -1.736</td> <td> 0.083</td> <td>   -0.153</td> <td>    0.009</td>\n",
              "</tr>\n",
              "<tr>\n",
              "  <th>dummy_IN</th>               <td>   -0.0379</td> <td>    0.038</td> <td>   -0.994</td> <td> 0.320</td> <td>   -0.113</td> <td>    0.037</td>\n",
              "</tr>\n",
              "<tr>\n",
              "  <th>dummy_KS</th>               <td>    0.0353</td> <td>    0.038</td> <td>    0.923</td> <td> 0.356</td> <td>   -0.040</td> <td>    0.110</td>\n",
              "</tr>\n",
              "<tr>\n",
              "  <th>dummy_KY</th>               <td>    0.0028</td> <td>    0.041</td> <td>    0.067</td> <td> 0.946</td> <td>   -0.078</td> <td>    0.083</td>\n",
              "</tr>\n",
              "<tr>\n",
              "  <th>dummy_LA</th>               <td>   -0.0253</td> <td>    0.045</td> <td>   -0.563</td> <td> 0.574</td> <td>   -0.113</td> <td>    0.063</td>\n",
              "</tr>\n",
              "<tr>\n",
              "  <th>dummy_MA</th>               <td>    0.0395</td> <td>    0.040</td> <td>    1.000</td> <td> 0.318</td> <td>   -0.038</td> <td>    0.117</td>\n",
              "</tr>\n",
              "<tr>\n",
              "  <th>dummy_MD</th>               <td>    0.0557</td> <td>    0.038</td> <td>    1.463</td> <td> 0.144</td> <td>   -0.019</td> <td>    0.130</td>\n",
              "</tr>\n",
              "<tr>\n",
              "  <th>dummy_ME</th>               <td>    0.0460</td> <td>    0.040</td> <td>    1.140</td> <td> 0.254</td> <td>   -0.033</td> <td>    0.125</td>\n",
              "</tr>\n",
              "<tr>\n",
              "  <th>dummy_MI</th>               <td>    0.0307</td> <td>    0.038</td> <td>    0.808</td> <td> 0.419</td> <td>   -0.044</td> <td>    0.105</td>\n",
              "</tr>\n",
              "<tr>\n",
              "  <th>dummy_MN</th>               <td>    0.0307</td> <td>    0.035</td> <td>    0.885</td> <td> 0.376</td> <td>   -0.037</td> <td>    0.099</td>\n",
              "</tr>\n",
              "<tr>\n",
              "  <th>dummy_MO</th>               <td>   -0.0157</td> <td>    0.040</td> <td>   -0.392</td> <td> 0.695</td> <td>   -0.094</td> <td>    0.063</td>\n",
              "</tr>\n",
              "<tr>\n",
              "  <th>dummy_MS</th>               <td>    0.0632</td> <td>    0.039</td> <td>    1.617</td> <td> 0.106</td> <td>   -0.013</td> <td>    0.140</td>\n",
              "</tr>\n",
              "<tr>\n",
              "  <th>dummy_MT</th>               <td>    0.1038</td> <td>    0.039</td> <td>    2.687</td> <td> 0.007</td> <td>    0.028</td> <td>    0.180</td>\n",
              "</tr>\n",
              "<tr>\n",
              "  <th>dummy_NC</th>               <td>   -0.0099</td> <td>    0.039</td> <td>   -0.257</td> <td> 0.797</td> <td>   -0.086</td> <td>    0.066</td>\n",
              "</tr>\n",
              "<tr>\n",
              "  <th>dummy_ND</th>               <td>   -0.0506</td> <td>    0.041</td> <td>   -1.232</td> <td> 0.218</td> <td>   -0.131</td> <td>    0.030</td>\n",
              "</tr>\n",
              "<tr>\n",
              "  <th>dummy_NE</th>               <td>   -0.0429</td> <td>    0.041</td> <td>   -1.047</td> <td> 0.295</td> <td>   -0.123</td> <td>    0.038</td>\n",
              "</tr>\n",
              "<tr>\n",
              "  <th>dummy_NH</th>               <td>    0.0247</td> <td>    0.043</td> <td>    0.577</td> <td> 0.564</td> <td>   -0.059</td> <td>    0.109</td>\n",
              "</tr>\n",
              "<tr>\n",
              "  <th>dummy_NJ</th>               <td>    0.0925</td> <td>    0.039</td> <td>    2.398</td> <td> 0.017</td> <td>    0.017</td> <td>    0.168</td>\n",
              "</tr>\n",
              "<tr>\n",
              "  <th>dummy_NM</th>               <td>   -0.0410</td> <td>    0.041</td> <td>   -1.000</td> <td> 0.317</td> <td>   -0.122</td> <td>    0.039</td>\n",
              "</tr>\n",
              "<tr>\n",
              "  <th>dummy_NV</th>               <td>    0.0513</td> <td>    0.039</td> <td>    1.320</td> <td> 0.187</td> <td>   -0.025</td> <td>    0.127</td>\n",
              "</tr>\n",
              "<tr>\n",
              "  <th>dummy_NY</th>               <td>    0.0371</td> <td>    0.036</td> <td>    1.037</td> <td> 0.300</td> <td>   -0.033</td> <td>    0.107</td>\n",
              "</tr>\n",
              "<tr>\n",
              "  <th>dummy_OH</th>               <td>   -0.0110</td> <td>    0.037</td> <td>   -0.300</td> <td> 0.764</td> <td>   -0.083</td> <td>    0.061</td>\n",
              "</tr>\n",
              "<tr>\n",
              "  <th>dummy_OK</th>               <td>    0.0031</td> <td>    0.041</td> <td>    0.076</td> <td> 0.939</td> <td>   -0.077</td> <td>    0.083</td>\n",
              "</tr>\n",
              "<tr>\n",
              "  <th>dummy_OR</th>               <td>   -0.0061</td> <td>    0.036</td> <td>   -0.170</td> <td> 0.865</td> <td>   -0.077</td> <td>    0.065</td>\n",
              "</tr>\n",
              "<tr>\n",
              "  <th>dummy_PA</th>               <td>    0.0317</td> <td>    0.047</td> <td>    0.675</td> <td> 0.500</td> <td>   -0.060</td> <td>    0.124</td>\n",
              "</tr>\n",
              "<tr>\n",
              "  <th>dummy_RI</th>               <td>   -0.0432</td> <td>    0.039</td> <td>   -1.094</td> <td> 0.274</td> <td>   -0.121</td> <td>    0.034</td>\n",
              "</tr>\n",
              "<tr>\n",
              "  <th>dummy_SC</th>               <td>    0.1320</td> <td>    0.041</td> <td>    3.190</td> <td> 0.001</td> <td>    0.051</td> <td>    0.213</td>\n",
              "</tr>\n",
              "<tr>\n",
              "  <th>dummy_SD</th>               <td>   -0.0175</td> <td>    0.041</td> <td>   -0.427</td> <td> 0.669</td> <td>   -0.098</td> <td>    0.063</td>\n",
              "</tr>\n",
              "<tr>\n",
              "  <th>dummy_TN</th>               <td>   -0.0427</td> <td>    0.043</td> <td>   -0.987</td> <td> 0.324</td> <td>   -0.128</td> <td>    0.042</td>\n",
              "</tr>\n",
              "<tr>\n",
              "  <th>dummy_TX</th>               <td>    0.1061</td> <td>    0.037</td> <td>    2.854</td> <td> 0.004</td> <td>    0.033</td> <td>    0.179</td>\n",
              "</tr>\n",
              "<tr>\n",
              "  <th>dummy_UT</th>               <td>    0.0184</td> <td>    0.038</td> <td>    0.489</td> <td> 0.625</td> <td>   -0.056</td> <td>    0.092</td>\n",
              "</tr>\n",
              "<tr>\n",
              "  <th>dummy_VA</th>               <td>   -0.1045</td> <td>    0.037</td> <td>   -2.841</td> <td> 0.005</td> <td>   -0.177</td> <td>   -0.032</td>\n",
              "</tr>\n",
              "<tr>\n",
              "  <th>dummy_VT</th>               <td>   -0.0496</td> <td>    0.038</td> <td>   -1.313</td> <td> 0.189</td> <td>   -0.124</td> <td>    0.024</td>\n",
              "</tr>\n",
              "<tr>\n",
              "  <th>dummy_WA</th>               <td>    0.0752</td> <td>    0.039</td> <td>    1.936</td> <td> 0.053</td> <td>   -0.001</td> <td>    0.151</td>\n",
              "</tr>\n",
              "<tr>\n",
              "  <th>dummy_WI</th>               <td>   -0.0348</td> <td>    0.037</td> <td>   -0.949</td> <td> 0.343</td> <td>   -0.107</td> <td>    0.037</td>\n",
              "</tr>\n",
              "<tr>\n",
              "  <th>dummy_WV</th>               <td>   -0.0212</td> <td>    0.031</td> <td>   -0.683</td> <td> 0.495</td> <td>   -0.082</td> <td>    0.040</td>\n",
              "</tr>\n",
              "<tr>\n",
              "  <th>dummy_WY</th>               <td>   -0.0251</td> <td>    0.036</td> <td>   -0.689</td> <td> 0.491</td> <td>   -0.097</td> <td>    0.046</td>\n",
              "</tr>\n",
              "<tr>\n",
              "  <th>account length</th>         <td>    0.0049</td> <td>    0.006</td> <td>    0.879</td> <td> 0.380</td> <td>   -0.006</td> <td>    0.016</td>\n",
              "</tr>\n",
              "<tr>\n",
              "  <th>number vmail messages</th>  <td>    0.0294</td> <td>    0.019</td> <td>    1.515</td> <td> 0.130</td> <td>   -0.009</td> <td>    0.067</td>\n",
              "</tr>\n",
              "<tr>\n",
              "  <th>total day minutes</th>      <td>    5.5383</td> <td>   17.895</td> <td>    0.309</td> <td> 0.757</td> <td>  -29.548</td> <td>   40.624</td>\n",
              "</tr>\n",
              "<tr>\n",
              "  <th>total day calls</th>        <td>    0.0092</td> <td>    0.006</td> <td>    1.633</td> <td> 0.102</td> <td>   -0.002</td> <td>    0.020</td>\n",
              "</tr>\n",
              "<tr>\n",
              "  <th>total day charge</th>       <td>   -2.6148</td> <td>   11.036</td> <td>   -0.237</td> <td> 0.813</td> <td>  -24.253</td> <td>   19.024</td>\n",
              "</tr>\n",
              "<tr>\n",
              "  <th>total eve minutes</th>      <td>    5.5801</td> <td>    8.325</td> <td>    0.670</td> <td> 0.503</td> <td>  -10.742</td> <td>   21.902</td>\n",
              "</tr>\n",
              "<tr>\n",
              "  <th>total eve calls</th>        <td>-4.959e-05</td> <td>    0.006</td> <td>   -0.009</td> <td> 0.993</td> <td>   -0.011</td> <td>    0.011</td>\n",
              "</tr>\n",
              "<tr>\n",
              "  <th>total eve charge</th>       <td>   -4.2088</td> <td>    8.294</td> <td>   -0.507</td> <td> 0.612</td> <td>  -20.470</td> <td>   12.052</td>\n",
              "</tr>\n",
              "<tr>\n",
              "  <th>total night minutes</th>    <td>   -2.6441</td> <td>    4.417</td> <td>   -0.599</td> <td> 0.550</td> <td>  -11.305</td> <td>    6.017</td>\n",
              "</tr>\n",
              "<tr>\n",
              "  <th>total night calls</th>      <td>    0.0010</td> <td>    0.006</td> <td>    0.173</td> <td> 0.862</td> <td>   -0.010</td> <td>    0.012</td>\n",
              "</tr>\n",
              "<tr>\n",
              "  <th>total night charge</th>     <td>    3.3642</td> <td>    4.618</td> <td>    0.729</td> <td> 0.466</td> <td>   -5.690</td> <td>   12.418</td>\n",
              "</tr>\n",
              "<tr>\n",
              "  <th>total intl minutes</th>     <td>   -0.9164</td> <td>    1.414</td> <td>   -0.648</td> <td> 0.517</td> <td>   -3.688</td> <td>    1.856</td>\n",
              "</tr>\n",
              "<tr>\n",
              "  <th>total intl calls</th>       <td>   -0.0219</td> <td>    0.006</td> <td>   -3.913</td> <td> 0.000</td> <td>   -0.033</td> <td>   -0.011</td>\n",
              "</tr>\n",
              "<tr>\n",
              "  <th>total intl charge</th>      <td>    1.1611</td> <td>    1.515</td> <td>    0.766</td> <td> 0.444</td> <td>   -1.810</td> <td>    4.132</td>\n",
              "</tr>\n",
              "<tr>\n",
              "  <th>customer service calls</th> <td>    0.0747</td> <td>    0.006</td> <td>   13.288</td> <td> 0.000</td> <td>    0.064</td> <td>    0.086</td>\n",
              "</tr>\n",
              "<tr>\n",
              "  <th>total charge</th>           <td>   -3.2362</td> <td>    8.097</td> <td>   -0.400</td> <td> 0.689</td> <td>  -19.112</td> <td>   12.640</td>\n",
              "</tr>\n",
              "</table>\n",
              "<table class=\"simpletable\">\n",
              "<tr>\n",
              "  <th>Omnibus:</th>       <td>766.388</td> <th>  Durbin-Watson:     </th> <td>   1.977</td>\n",
              "</tr>\n",
              "<tr>\n",
              "  <th>Prob(Omnibus):</th> <td> 0.000</td>  <th>  Jarque-Bera (JB):  </th> <td>1461.990</td>\n",
              "</tr>\n",
              "<tr>\n",
              "  <th>Skew:</th>          <td> 1.449</td>  <th>  Prob(JB):          </th> <td>    0.00</td>\n",
              "</tr>\n",
              "<tr>\n",
              "  <th>Kurtosis:</th>      <td> 4.538</td>  <th>  Cond. No.          </th> <td>1.29e+16</td>\n",
              "</tr>\n",
              "</table><br/><br/>Warnings:<br/>[1] Standard Errors assume that the covariance matrix of the errors is correctly specified.<br/>[2] The smallest eigenvalue is 5.87e-29. This might indicate that there are<br/>strong multicollinearity problems or that the design matrix is singular."
            ],
            "text/plain": [
              "<class 'statsmodels.iolib.summary.Summary'>\n",
              "\"\"\"\n",
              "                            OLS Regression Results                            \n",
              "==============================================================================\n",
              "Dep. Variable:                  churn   R-squared:                       0.197\n",
              "Model:                            OLS   Adj. R-squared:                  0.181\n",
              "Method:                 Least Squares   F-statistic:                     11.72\n",
              "Date:                Thu, 16 Jul 2020   Prob (F-statistic):          6.12e-108\n",
              "Time:                        20:08:19   Log-Likelihood:                -853.75\n",
              "No. Observations:                3260   AIC:                             1844.\n",
              "Df Residuals:                    3192   BIC:                             2258.\n",
              "Df Model:                          67                                         \n",
              "Covariance Type:            nonrobust                                         \n",
              "==========================================================================================\n",
              "                             coef    std err          t      P>|t|      [0.025      0.975]\n",
              "------------------------------------------------------------------------------------------\n",
              "const                      0.1513      0.013     11.472      0.000       0.125       0.177\n",
              "international plan         0.3021      0.019     15.813      0.000       0.265       0.340\n",
              "voice mail plan           -0.1410      0.043     -3.253      0.001      -0.226      -0.056\n",
              "dummy_AK                  -0.0524      0.044     -1.187      0.235      -0.139       0.034\n",
              "dummy_AL                  -0.0390      0.035     -1.102      0.270      -0.108       0.030\n",
              "dummy_AR                   0.0329      0.043      0.760      0.447      -0.052       0.118\n",
              "dummy_AZ                  -0.0470      0.040     -1.173      0.241      -0.125       0.032\n",
              "dummy_CA                   0.1294      0.055      2.334      0.020       0.021       0.238\n",
              "dummy_CO                  -0.0154      0.039     -0.394      0.694      -0.092       0.061\n",
              "dummy_CT                   0.0210      0.037      0.571      0.568      -0.051       0.093\n",
              "dummy_DC                  -0.0268      0.043     -0.625      0.532      -0.111       0.057\n",
              "dummy_DE                  -0.0208      0.040     -0.515      0.606      -0.100       0.058\n",
              "dummy_FL                  -0.0409      0.040     -1.012      0.312      -0.120       0.038\n",
              "dummy_GA                  -0.0109      0.043     -0.252      0.801      -0.096       0.074\n",
              "dummy_HI                  -0.0627      0.044     -1.435      0.151      -0.148       0.023\n",
              "dummy_IA                  -0.0383      0.047     -0.807      0.420      -0.131       0.055\n",
              "dummy_ID                  -0.0064      0.038     -0.170      0.865      -0.080       0.068\n",
              "dummy_IL                  -0.0720      0.041     -1.736      0.083      -0.153       0.009\n",
              "dummy_IN                  -0.0379      0.038     -0.994      0.320      -0.113       0.037\n",
              "dummy_KS                   0.0353      0.038      0.923      0.356      -0.040       0.110\n",
              "dummy_KY                   0.0028      0.041      0.067      0.946      -0.078       0.083\n",
              "dummy_LA                  -0.0253      0.045     -0.563      0.574      -0.113       0.063\n",
              "dummy_MA                   0.0395      0.040      1.000      0.318      -0.038       0.117\n",
              "dummy_MD                   0.0557      0.038      1.463      0.144      -0.019       0.130\n",
              "dummy_ME                   0.0460      0.040      1.140      0.254      -0.033       0.125\n",
              "dummy_MI                   0.0307      0.038      0.808      0.419      -0.044       0.105\n",
              "dummy_MN                   0.0307      0.035      0.885      0.376      -0.037       0.099\n",
              "dummy_MO                  -0.0157      0.040     -0.392      0.695      -0.094       0.063\n",
              "dummy_MS                   0.0632      0.039      1.617      0.106      -0.013       0.140\n",
              "dummy_MT                   0.1038      0.039      2.687      0.007       0.028       0.180\n",
              "dummy_NC                  -0.0099      0.039     -0.257      0.797      -0.086       0.066\n",
              "dummy_ND                  -0.0506      0.041     -1.232      0.218      -0.131       0.030\n",
              "dummy_NE                  -0.0429      0.041     -1.047      0.295      -0.123       0.038\n",
              "dummy_NH                   0.0247      0.043      0.577      0.564      -0.059       0.109\n",
              "dummy_NJ                   0.0925      0.039      2.398      0.017       0.017       0.168\n",
              "dummy_NM                  -0.0410      0.041     -1.000      0.317      -0.122       0.039\n",
              "dummy_NV                   0.0513      0.039      1.320      0.187      -0.025       0.127\n",
              "dummy_NY                   0.0371      0.036      1.037      0.300      -0.033       0.107\n",
              "dummy_OH                  -0.0110      0.037     -0.300      0.764      -0.083       0.061\n",
              "dummy_OK                   0.0031      0.041      0.076      0.939      -0.077       0.083\n",
              "dummy_OR                  -0.0061      0.036     -0.170      0.865      -0.077       0.065\n",
              "dummy_PA                   0.0317      0.047      0.675      0.500      -0.060       0.124\n",
              "dummy_RI                  -0.0432      0.039     -1.094      0.274      -0.121       0.034\n",
              "dummy_SC                   0.1320      0.041      3.190      0.001       0.051       0.213\n",
              "dummy_SD                  -0.0175      0.041     -0.427      0.669      -0.098       0.063\n",
              "dummy_TN                  -0.0427      0.043     -0.987      0.324      -0.128       0.042\n",
              "dummy_TX                   0.1061      0.037      2.854      0.004       0.033       0.179\n",
              "dummy_UT                   0.0184      0.038      0.489      0.625      -0.056       0.092\n",
              "dummy_VA                  -0.1045      0.037     -2.841      0.005      -0.177      -0.032\n",
              "dummy_VT                  -0.0496      0.038     -1.313      0.189      -0.124       0.024\n",
              "dummy_WA                   0.0752      0.039      1.936      0.053      -0.001       0.151\n",
              "dummy_WI                  -0.0348      0.037     -0.949      0.343      -0.107       0.037\n",
              "dummy_WV                  -0.0212      0.031     -0.683      0.495      -0.082       0.040\n",
              "dummy_WY                  -0.0251      0.036     -0.689      0.491      -0.097       0.046\n",
              "account length             0.0049      0.006      0.879      0.380      -0.006       0.016\n",
              "number vmail messages      0.0294      0.019      1.515      0.130      -0.009       0.067\n",
              "total day minutes          5.5383     17.895      0.309      0.757     -29.548      40.624\n",
              "total day calls            0.0092      0.006      1.633      0.102      -0.002       0.020\n",
              "total day charge          -2.6148     11.036     -0.237      0.813     -24.253      19.024\n",
              "total eve minutes          5.5801      8.325      0.670      0.503     -10.742      21.902\n",
              "total eve calls        -4.959e-05      0.006     -0.009      0.993      -0.011       0.011\n",
              "total eve charge          -4.2088      8.294     -0.507      0.612     -20.470      12.052\n",
              "total night minutes       -2.6441      4.417     -0.599      0.550     -11.305       6.017\n",
              "total night calls          0.0010      0.006      0.173      0.862      -0.010       0.012\n",
              "total night charge         3.3642      4.618      0.729      0.466      -5.690      12.418\n",
              "total intl minutes        -0.9164      1.414     -0.648      0.517      -3.688       1.856\n",
              "total intl calls          -0.0219      0.006     -3.913      0.000      -0.033      -0.011\n",
              "total intl charge          1.1611      1.515      0.766      0.444      -1.810       4.132\n",
              "customer service calls     0.0747      0.006     13.288      0.000       0.064       0.086\n",
              "total charge              -3.2362      8.097     -0.400      0.689     -19.112      12.640\n",
              "==============================================================================\n",
              "Omnibus:                      766.388   Durbin-Watson:                   1.977\n",
              "Prob(Omnibus):                  0.000   Jarque-Bera (JB):             1461.990\n",
              "Skew:                           1.449   Prob(JB):                         0.00\n",
              "Kurtosis:                       4.538   Cond. No.                     1.29e+16\n",
              "==============================================================================\n",
              "\n",
              "Warnings:\n",
              "[1] Standard Errors assume that the covariance matrix of the errors is correctly specified.\n",
              "[2] The smallest eigenvalue is 5.87e-29. This might indicate that there are\n",
              "strong multicollinearity problems or that the design matrix is singular.\n",
              "\"\"\""
            ]
          },
          "metadata": {
            "tags": []
          },
          "execution_count": 16
        }
      ]
    },
    {
      "cell_type": "markdown",
      "metadata": {
        "id": "rk1Gs1QH9zJN",
        "colab_type": "text"
      },
      "source": [
        "**Top features by OLS by on p-values (<0.05):** international plan, total intl calls, customer service calls, and voice mail plan "
      ]
    },
    {
      "cell_type": "markdown",
      "metadata": {
        "id": "QIovEhwvMAlO",
        "colab_type": "text"
      },
      "source": [
        "Most of the dummies variables of 'state' have p-values greater than 0.05. Therefore, I will drop the 'state' feature"
      ]
    },
    {
      "cell_type": "code",
      "metadata": {
        "id": "FB45LKZ6MQHT",
        "colab_type": "code",
        "colab": {
          "base_uri": "https://localhost:8080/",
          "height": 250
        },
        "outputId": "c8cc68bb-486a-4a05-c08d-257c100e9ce7"
      },
      "source": [
        "df1 = df1[['international plan', 'voice mail plan', 'account length', 'number vmail messages', 'total day minutes',\n",
        "          'total day calls', 'total day charge', 'total eve minutes', 'total eve calls', 'total eve charge',\n",
        "          'total night minutes', 'total night calls', 'total night charge', 'total intl minutes', 'total intl calls', \n",
        "          'total intl charge', 'customer service calls', 'total charge', 'churn']].copy()\n",
        "df1.head()"
      ],
      "execution_count": null,
      "outputs": [
        {
          "output_type": "execute_result",
          "data": {
            "text/html": [
              "<div>\n",
              "<style scoped>\n",
              "    .dataframe tbody tr th:only-of-type {\n",
              "        vertical-align: middle;\n",
              "    }\n",
              "\n",
              "    .dataframe tbody tr th {\n",
              "        vertical-align: top;\n",
              "    }\n",
              "\n",
              "    .dataframe thead th {\n",
              "        text-align: right;\n",
              "    }\n",
              "</style>\n",
              "<table border=\"1\" class=\"dataframe\">\n",
              "  <thead>\n",
              "    <tr style=\"text-align: right;\">\n",
              "      <th></th>\n",
              "      <th>international plan</th>\n",
              "      <th>voice mail plan</th>\n",
              "      <th>account length</th>\n",
              "      <th>number vmail messages</th>\n",
              "      <th>total day minutes</th>\n",
              "      <th>total day calls</th>\n",
              "      <th>total day charge</th>\n",
              "      <th>total eve minutes</th>\n",
              "      <th>total eve calls</th>\n",
              "      <th>total eve charge</th>\n",
              "      <th>total night minutes</th>\n",
              "      <th>total night calls</th>\n",
              "      <th>total night charge</th>\n",
              "      <th>total intl minutes</th>\n",
              "      <th>total intl calls</th>\n",
              "      <th>total intl charge</th>\n",
              "      <th>customer service calls</th>\n",
              "      <th>total charge</th>\n",
              "      <th>churn</th>\n",
              "    </tr>\n",
              "  </thead>\n",
              "  <tbody>\n",
              "    <tr>\n",
              "      <th>0</th>\n",
              "      <td>0</td>\n",
              "      <td>1</td>\n",
              "      <td>0.684493</td>\n",
              "      <td>1.231227</td>\n",
              "      <td>1.583033</td>\n",
              "      <td>0.484641</td>\n",
              "      <td>1.583309</td>\n",
              "      <td>-0.070841</td>\n",
              "      <td>-0.056774</td>\n",
              "      <td>-0.070657</td>\n",
              "      <td>0.887602</td>\n",
              "      <td>-0.463600</td>\n",
              "      <td>0.886873</td>\n",
              "      <td>-0.109483</td>\n",
              "      <td>-0.624440</td>\n",
              "      <td>-0.110199</td>\n",
              "      <td>-0.427540</td>\n",
              "      <td>1.553196</td>\n",
              "      <td>False</td>\n",
              "    </tr>\n",
              "    <tr>\n",
              "      <th>1</th>\n",
              "      <td>0</td>\n",
              "      <td>1</td>\n",
              "      <td>0.154991</td>\n",
              "      <td>1.304175</td>\n",
              "      <td>-0.347270</td>\n",
              "      <td>1.140403</td>\n",
              "      <td>-0.347550</td>\n",
              "      <td>-0.108651</td>\n",
              "      <td>0.146279</td>\n",
              "      <td>-0.108116</td>\n",
              "      <td>1.082106</td>\n",
              "      <td>0.152308</td>\n",
              "      <td>1.082933</td>\n",
              "      <td>1.272021</td>\n",
              "      <td>-0.624440</td>\n",
              "      <td>1.272751</td>\n",
              "      <td>-0.427540</td>\n",
              "      <td>-0.027025</td>\n",
              "      <td>False</td>\n",
              "    </tr>\n",
              "    <tr>\n",
              "      <th>2</th>\n",
              "      <td>0</td>\n",
              "      <td>0</td>\n",
              "      <td>0.911422</td>\n",
              "      <td>-0.592465</td>\n",
              "      <td>1.178322</td>\n",
              "      <td>0.686414</td>\n",
              "      <td>1.178487</td>\n",
              "      <td>-1.587209</td>\n",
              "      <td>0.501621</td>\n",
              "      <td>-1.587729</td>\n",
              "      <td>-0.758668</td>\n",
              "      <td>0.203634</td>\n",
              "      <td>-0.757354</td>\n",
              "      <td>0.711952</td>\n",
              "      <td>0.217444</td>\n",
              "      <td>0.705742</td>\n",
              "      <td>-1.199289</td>\n",
              "      <td>0.268298</td>\n",
              "      <td>False</td>\n",
              "    </tr>\n",
              "    <tr>\n",
              "      <th>3</th>\n",
              "      <td>1</td>\n",
              "      <td>0</td>\n",
              "      <td>-0.424939</td>\n",
              "      <td>-0.592465</td>\n",
              "      <td>2.222738</td>\n",
              "      <td>-1.482643</td>\n",
              "      <td>2.222906</td>\n",
              "      <td>-2.767269</td>\n",
              "      <td>-0.615168</td>\n",
              "      <td>-2.767673</td>\n",
              "      <td>-0.070884</td>\n",
              "      <td>-0.566251</td>\n",
              "      <td>-0.071145</td>\n",
              "      <td>-1.378973</td>\n",
              "      <td>1.059328</td>\n",
              "      <td>-1.382513</td>\n",
              "      <td>0.344210</td>\n",
              "      <td>0.704989</td>\n",
              "      <td>False</td>\n",
              "    </tr>\n",
              "    <tr>\n",
              "      <th>4</th>\n",
              "      <td>1</td>\n",
              "      <td>0</td>\n",
              "      <td>-0.651869</td>\n",
              "      <td>-0.592465</td>\n",
              "      <td>-0.252154</td>\n",
              "      <td>0.635971</td>\n",
              "      <td>-0.252104</td>\n",
              "      <td>-1.047923</td>\n",
              "      <td>1.110778</td>\n",
              "      <td>-1.046921</td>\n",
              "      <td>-0.271405</td>\n",
              "      <td>1.076169</td>\n",
              "      <td>-0.271661</td>\n",
              "      <td>-0.072145</td>\n",
              "      <td>-0.624440</td>\n",
              "      <td>-0.068711</td>\n",
              "      <td>1.115959</td>\n",
              "      <td>-0.719340</td>\n",
              "      <td>False</td>\n",
              "    </tr>\n",
              "  </tbody>\n",
              "</table>\n",
              "</div>"
            ],
            "text/plain": [
              "   international plan  voice mail plan  ...  total charge  churn\n",
              "0                   0                1  ...      1.553196  False\n",
              "1                   0                1  ...     -0.027025  False\n",
              "2                   0                0  ...      0.268298  False\n",
              "3                   1                0  ...      0.704989  False\n",
              "4                   1                0  ...     -0.719340  False\n",
              "\n",
              "[5 rows x 19 columns]"
            ]
          },
          "metadata": {
            "tags": []
          },
          "execution_count": 17
        }
      ]
    },
    {
      "cell_type": "markdown",
      "metadata": {
        "id": "G3CfmIxaDWbT",
        "colab_type": "text"
      },
      "source": [
        "# Multicollinearity Check"
      ]
    },
    {
      "cell_type": "code",
      "metadata": {
        "id": "omrPog1tDWbT",
        "colab_type": "code",
        "colab": {
          "base_uri": "https://localhost:8080/",
          "height": 706
        },
        "outputId": "1b76a8da-62d7-4154-b8d3-894e2f37361d"
      },
      "source": [
        "corr = df1.corr()\n",
        "f, ax = plt.subplots(figsize=(15, 10))\n",
        "\n",
        "sns.heatmap(corr, vmax=1., square=True)\n",
        "plt.title('Correlation Relationships between Variables', fontsize=15)\n",
        "plt.show()"
      ],
      "execution_count": null,
      "outputs": [
        {
          "output_type": "display_data",
          "data": {
            "image/png": "[encoded data removed]",
            "text/plain": [
              "<Figure size 1080x720 with 2 Axes>"
            ]
          },
          "metadata": {
            "tags": []
          }
        }
      ]
    },
    {
      "cell_type": "markdown",
      "metadata": {
        "id": "7PjWO-LTDWbW",
        "colab_type": "text"
      },
      "source": [
        "#### General comments on the correlation between features and target\n",
        "* High correlation between 'voice mail plan' and 'number vmail messages' --> makes sense because customers with a voice mail plan send more voice mail messages\n",
        "* Greatly high correlation between 'total day minutes' and 'total day charge'. I also found the same patterns for other pairs: 'total eve minutes' and 'total eve charge', 'total night minutes' and 'total night charge', and 'total intl minutes' and 'total intl charge' --> the telecom company seems to charge customers by minutes of calls\n",
        "* There are also a slightly lower correlations between 'total charge' with 'total day minutes', and with 'total day charge'"
      ]
    },
    {
      "cell_type": "markdown",
      "metadata": {
        "id": "IK-NZeON6oXl",
        "colab_type": "text"
      },
      "source": [
        "# Feature Selection by LassoCV"
      ]
    },
    {
      "cell_type": "markdown",
      "metadata": {
        "id": "m8Nx_CIn631J",
        "colab_type": "text"
      },
      "source": [
        "Using LassoCV to find the optimal alpha value for L1 regularization"
      ]
    },
    {
      "cell_type": "code",
      "metadata": {
        "id": "c3WFgPjr6zWN",
        "colab_type": "code",
        "colab": {
          "base_uri": "https://localhost:8080/",
          "height": 351
        },
        "outputId": "830ee724-34b7-4beb-ebb6-97d8833faa65"
      },
      "source": [
        "y = df1['churn']\n",
        "X = df1.drop('churn', axis=1)\n",
        "# Scale the features X on both the train and test sets\n",
        "ss = StandardScaler()\n",
        "ss.fit(X.values)\n",
        "X_scaled = ss.transform(X.values)\n",
        "print('X_scaled', X_scaled.shape)\n",
        "# Run the cross validation, find the best alpha, refit the model on all the data with that alpha\n",
        "alphavec = 10**np.linspace(-3, 3, 200)   # alpha varies from 0.001 to 1000\n",
        "lasso_model = LassoCV(alphas = alphavec, cv=5)\n",
        "lasso_model.fit(X_scaled, y)\n",
        "# Print out the best alpha value found\n",
        "print('LASSO best alpha: ', lasso_model.alpha_ )\n",
        "# Display all coefficients in the model with optimal alpha\n",
        "list(zip(X.columns, lasso_model.coef_))"
      ],
      "execution_count": null,
      "outputs": [
        {
          "output_type": "stream",
          "text": [
            "X_scaled (3260, 18)\n",
            "LASSO best alpha:  0.0032550885998350564\n"
          ],
          "name": "stdout"
        },
        {
          "output_type": "execute_result",
          "data": {
            "text/plain": [
              "[('international plan', 0.08502889092570431),\n",
              " ('voice mail plan', -0.03206006315341948),\n",
              " ('account length', 0.0001453563798235303),\n",
              " ('number vmail messages', -0.0),\n",
              " ('total day minutes', 0.0),\n",
              " ('total day calls', 0.0048859071895352236),\n",
              " ('total day charge', 0.0),\n",
              " ('total eve minutes', 0.0),\n",
              " ('total eve calls', -0.0),\n",
              " ('total eve charge', 0.0),\n",
              " ('total night minutes', 0.0),\n",
              " ('total night calls', 0.0),\n",
              " ('total night charge', 0.0),\n",
              " ('total intl minutes', 0.0),\n",
              " ('total intl calls', -0.01852737365506485),\n",
              " ('total intl charge', 0.010844446327282768),\n",
              " ('customer service calls', 0.07211447633415119),\n",
              " ('total charge', 0.07475544482510159)]"
            ]
          },
          "metadata": {
            "tags": []
          },
          "execution_count": 19
        }
      ]
    },
    {
      "cell_type": "markdown",
      "metadata": {
        "id": "JHe0Tago7vmF",
        "colab_type": "text"
      },
      "source": [
        "### Visualize the results"
      ]
    },
    {
      "cell_type": "code",
      "metadata": {
        "id": "RcnXdGoE6zMv",
        "colab_type": "code",
        "colab": {
          "base_uri": "https://localhost:8080/",
          "height": 500
        },
        "outputId": "eec4980b-e109-4e27-b578-642109645161"
      },
      "source": [
        "lasso_feats = ['international plan', 'total charge', 'customer service calls', 'voice mail plan',\n",
        "               'total intl calls', 'total intl charge', 'total day calls', 'account length']\n",
        "\n",
        "lasso_coef = [0.0850288909, 0.0747554448, 0.0721144763, 0.0320600631, \n",
        "              0.0185273736, 0.0108444463, 0.0048859071, 0.0001453563]\n",
        "\n",
        "fig, ax = plt.subplots(figsize=(10, 8))\n",
        "sns.barplot(y = lasso_feats, x = lasso_coef, ax=ax, color='cornflowerblue')"
      ],
      "execution_count": null,
      "outputs": [
        {
          "output_type": "execute_result",
          "data": {
            "text/plain": [
              "<matplotlib.axes._subplots.AxesSubplot at 0x7f7b2d04b7f0>"
            ]
          },
          "metadata": {
            "tags": []
          },
          "execution_count": 20
        },
        {
          "output_type": "display_data",
          "data": {
            "image/png": "[encoded data removed]",
            "text/plain": [
              "<Figure size 720x576 with 1 Axes>"
            ]
          },
          "metadata": {
            "tags": []
          }
        }
      ]
    },
    {
      "cell_type": "markdown",
      "metadata": {
        "id": "enmWWQJ-ANuC",
        "colab_type": "text"
      },
      "source": [
        "**Important features by LassoCV:** international plan, total charge, customer service calls, voice mail plan and total intl calls"
      ]
    },
    {
      "cell_type": "code",
      "metadata": {
        "id": "Fq86ZfP2QjCD",
        "colab_type": "code",
        "colab": {
          "base_uri": "https://localhost:8080/",
          "height": 213
        },
        "outputId": "9d050c60-857f-4186-f74b-02c1eaa91003"
      },
      "source": [
        "# Dropping all the feature that has lasso coefficient = 0\n",
        "lasso_df = df1.drop(['number vmail messages', 'total day minutes', 'total day charge', \n",
        "                     'total eve minutes', 'total eve calls', 'total eve charge',\n",
        "                     'total night minutes', 'total night calls', 'total night charge',\n",
        "                     'total intl minutes'], axis=1)\n",
        "lasso_df.head()"
      ],
      "execution_count": null,
      "outputs": [
        {
          "output_type": "execute_result",
          "data": {
            "text/html": [
              "<div>\n",
              "<style scoped>\n",
              "    .dataframe tbody tr th:only-of-type {\n",
              "        vertical-align: middle;\n",
              "    }\n",
              "\n",
              "    .dataframe tbody tr th {\n",
              "        vertical-align: top;\n",
              "    }\n",
              "\n",
              "    .dataframe thead th {\n",
              "        text-align: right;\n",
              "    }\n",
              "</style>\n",
              "<table border=\"1\" class=\"dataframe\">\n",
              "  <thead>\n",
              "    <tr style=\"text-align: right;\">\n",
              "      <th></th>\n",
              "      <th>international plan</th>\n",
              "      <th>voice mail plan</th>\n",
              "      <th>account length</th>\n",
              "      <th>total day calls</th>\n",
              "      <th>total intl calls</th>\n",
              "      <th>total intl charge</th>\n",
              "      <th>customer service calls</th>\n",
              "      <th>total charge</th>\n",
              "      <th>churn</th>\n",
              "    </tr>\n",
              "  </thead>\n",
              "  <tbody>\n",
              "    <tr>\n",
              "      <th>0</th>\n",
              "      <td>0</td>\n",
              "      <td>1</td>\n",
              "      <td>0.684493</td>\n",
              "      <td>0.484641</td>\n",
              "      <td>-0.624440</td>\n",
              "      <td>-0.110199</td>\n",
              "      <td>-0.427540</td>\n",
              "      <td>1.553196</td>\n",
              "      <td>False</td>\n",
              "    </tr>\n",
              "    <tr>\n",
              "      <th>1</th>\n",
              "      <td>0</td>\n",
              "      <td>1</td>\n",
              "      <td>0.154991</td>\n",
              "      <td>1.140403</td>\n",
              "      <td>-0.624440</td>\n",
              "      <td>1.272751</td>\n",
              "      <td>-0.427540</td>\n",
              "      <td>-0.027025</td>\n",
              "      <td>False</td>\n",
              "    </tr>\n",
              "    <tr>\n",
              "      <th>2</th>\n",
              "      <td>0</td>\n",
              "      <td>0</td>\n",
              "      <td>0.911422</td>\n",
              "      <td>0.686414</td>\n",
              "      <td>0.217444</td>\n",
              "      <td>0.705742</td>\n",
              "      <td>-1.199289</td>\n",
              "      <td>0.268298</td>\n",
              "      <td>False</td>\n",
              "    </tr>\n",
              "    <tr>\n",
              "      <th>3</th>\n",
              "      <td>1</td>\n",
              "      <td>0</td>\n",
              "      <td>-0.424939</td>\n",
              "      <td>-1.482643</td>\n",
              "      <td>1.059328</td>\n",
              "      <td>-1.382513</td>\n",
              "      <td>0.344210</td>\n",
              "      <td>0.704989</td>\n",
              "      <td>False</td>\n",
              "    </tr>\n",
              "    <tr>\n",
              "      <th>4</th>\n",
              "      <td>1</td>\n",
              "      <td>0</td>\n",
              "      <td>-0.651869</td>\n",
              "      <td>0.635971</td>\n",
              "      <td>-0.624440</td>\n",
              "      <td>-0.068711</td>\n",
              "      <td>1.115959</td>\n",
              "      <td>-0.719340</td>\n",
              "      <td>False</td>\n",
              "    </tr>\n",
              "  </tbody>\n",
              "</table>\n",
              "</div>"
            ],
            "text/plain": [
              "   international plan  voice mail plan  ...  total charge  churn\n",
              "0                   0                1  ...      1.553196  False\n",
              "1                   0                1  ...     -0.027025  False\n",
              "2                   0                0  ...      0.268298  False\n",
              "3                   1                0  ...      0.704989  False\n",
              "4                   1                0  ...     -0.719340  False\n",
              "\n",
              "[5 rows x 9 columns]"
            ]
          },
          "metadata": {
            "tags": []
          },
          "execution_count": 24
        }
      ]
    },
    {
      "cell_type": "markdown",
      "metadata": {
        "id": "peMDnKsxDWci",
        "colab_type": "text"
      },
      "source": [
        "# Build Models with choosen features"
      ]
    },
    {
      "cell_type": "code",
      "metadata": {
        "id": "LgZoCxRwSj91",
        "colab_type": "code",
        "colab": {}
      },
      "source": [
        "y_lasso = lasso_df['churn']\n",
        "X_lasso = lasso_df.drop('churn', axis=1)"
      ],
      "execution_count": null,
      "outputs": []
    },
    {
      "cell_type": "markdown",
      "metadata": {
        "id": "VR20ck7LWg3z",
        "colab_type": "text"
      },
      "source": [
        "### Function to plot Confusion Matrix"
      ]
    },
    {
      "cell_type": "code",
      "metadata": {
        "id": "k4YlhmqZWnEY",
        "colab_type": "code",
        "colab": {}
      },
      "source": [
        "# Add appropriate axis scales\n",
        "# Get class labels to add to matrix\n",
        "class_names = set(y_lasso) "
      ],
      "execution_count": null,
      "outputs": []
    },
    {
      "cell_type": "code",
      "metadata": {
        "id": "QUHBILy1WptJ",
        "colab_type": "code",
        "colab": {}
      },
      "source": [
        "# Function to plot the confusion matrix\n",
        "def plot_confusion_matrix(cm, classes, normalize=False,\n",
        "                          title='Confusion matrix',\n",
        "                          cmap=plt.cm.Blues):\n",
        "    if normalize:\n",
        "        cm = cm.astype('float') / cm.sum(axis=1)[:, np.newaxis]\n",
        "        print(\"Normalized confusion matrix\")\n",
        "    else:\n",
        "        print('Confusion matrix, without normalization')\n",
        "\n",
        "    plt.imshow(cm, cmap=cmap)\n",
        "    \n",
        "    # Add title and axis labels \n",
        "    plt.title('Confusion Matrix') \n",
        "    plt.ylabel('True label') \n",
        "    plt.xlabel('Predicted label')\n",
        "    \n",
        "    # Add appropriate axis scales\n",
        "    tick_marks = np.arange(len(classes))\n",
        "    plt.xticks(tick_marks, classes, rotation=45)\n",
        "    plt.yticks(tick_marks, classes)\n",
        "    \n",
        "    # Text formatting\n",
        "    fmt = '.2f' if normalize else 'd'\n",
        "    # Add labels to each cell\n",
        "    thresh = cm.max() / 2.\n",
        "    # Here we iterate through the confusion matrix and append labels to our visualization \n",
        "    for i, j in itertools.product(range(cm.shape[0]), range(cm.shape[1])):\n",
        "        plt.text(j, i, format(cm[i, j], fmt),\n",
        "                 horizontalalignment='center',\n",
        "                 color='white' if cm[i, j] > thresh else 'black')\n",
        "    \n",
        "    # Add a legend\n",
        "    plt.colorbar()\n",
        "    plt.show() "
      ],
      "execution_count": null,
      "outputs": []
    },
    {
      "cell_type": "markdown",
      "metadata": {
        "id": "C6z28XwasJu1",
        "colab_type": "text"
      },
      "source": [
        "### GridSearchCV"
      ]
    },
    {
      "cell_type": "markdown",
      "metadata": {
        "id": "3yRFnejhyz7G",
        "colab_type": "text"
      },
      "source": [
        "Function for GridSearchCV"
      ]
    },
    {
      "cell_type": "code",
      "metadata": {
        "id": "cQ1wLiNRrE2D",
        "colab_type": "code",
        "colab": {}
      },
      "source": [
        "def gridsearch_cv(clf, params, X_train, y_train, cv):\n",
        "    pipeline = Pipeline([('clf', clf)]) \n",
        "    gs = GridSearchCV(pipeline, params, cv=kf, n_jobs=-1, scoring='f1', return_train_score=True)\n",
        "    gs.fit(X_train, y_train)\n",
        "    return gs"
      ],
      "execution_count": null,
      "outputs": []
    },
    {
      "cell_type": "markdown",
      "metadata": {
        "id": "vq27vzCzy3qz",
        "colab_type": "text"
      },
      "source": [
        "Define the parameter grid for each classifier "
      ]
    },
    {
      "cell_type": "code",
      "metadata": {
        "id": "6SwVh6J9uKjA",
        "colab_type": "code",
        "colab": {}
      },
      "source": [
        "logistic_regression_params = {'clf__solver': ['liblinear'], \n",
        "                              'clf__C': [0.1, 1, 10],\n",
        "                              'clf__penalty': ['l2', 'l1']}\n",
        "\n",
        "random_forest_params = {'clf__max_depth': [25, 50, 75],\n",
        "                        # just sqrt is used because values of log2 and sqrt are very similar for our number of features (10-19)\n",
        "                        'clf__max_features': ['sqrt'],\n",
        "                        'clf__criterion': ['gini', 'entropy'],\n",
        "                        'clf__n_estimators': [100, 300, 500, 1000]}\n",
        "\n",
        "knn_params = {'clf__n_neighbors': [5, 15, 25, 35, 45, 55, 65],\n",
        "              'clf__weights': ['uniform', 'distance'],\n",
        "              'clf__p': [1, 2, 10]}\n",
        "\n",
        "decision_tree_params = {'clf__max_depth': [25, 50, 75],\n",
        "                        'clf__max_features': ['sqrt'],\n",
        "                        'clf__criterion': ['gini', 'entropy'],\n",
        "                        'clf__min_samples_split': [6, 10, 14],}\n",
        "\n",
        "xgb_params = {'clf__learning_rate': [0.1],\n",
        "              'clf__max_depth': [1, 3, 6],\n",
        "              'clf__n_estimators' : [30, 100, 250],\n",
        "              'clf__min_child_weight': [4, 6, 10],\n",
        "              'clf__subsample': [0.7]}"
      ],
      "execution_count": null,
      "outputs": []
    },
    {
      "cell_type": "code",
      "metadata": {
        "id": "7QLiA-Wowhb1",
        "colab_type": "code",
        "colab": {}
      },
      "source": [
        "kf = StratifiedKFold(n_splits=5, random_state=42)"
      ],
      "execution_count": null,
      "outputs": []
    },
    {
      "cell_type": "markdown",
      "metadata": {
        "id": "kJsJ8MguD7I3",
        "colab_type": "text"
      },
      "source": [
        "### Train Test Split the data"
      ]
    },
    {
      "cell_type": "code",
      "metadata": {
        "colab_type": "code",
        "id": "x_7QSo1cTIhi",
        "colab": {}
      },
      "source": [
        "X_train, X_test, y_train, y_test = train_test_split(X_lasso, y_lasso, test_size=0.2, random_state=42)"
      ],
      "execution_count": null,
      "outputs": []
    },
    {
      "cell_type": "markdown",
      "metadata": {
        "id": "lpEiUxMDTRdr",
        "colab_type": "text"
      },
      "source": [
        "### 1) LogisticRegression"
      ]
    },
    {
      "cell_type": "code",
      "metadata": {
        "id": "3_k2NDztTTfz",
        "colab_type": "code",
        "colab": {}
      },
      "source": [
        "logit = LogisticRegression(C=1.0)\n",
        "gs_logit = gridsearch_cv(logit, logistic_regression_params, X_train, y_train, kf)\n",
        "predictions = gs_logit.predict(X_test)"
      ],
      "execution_count": null,
      "outputs": []
    },
    {
      "cell_type": "code",
      "metadata": {
        "id": "zEMtKgtNTZcm",
        "colab_type": "code",
        "colab": {
          "base_uri": "https://localhost:8080/",
          "height": 84
        },
        "outputId": "42614406-2e80-486d-94b1-1cf21ba39ac6"
      },
      "source": [
        "print('Accuracy Score', accuracy_score(y_test, predictions))\n",
        "print('Recall Score', recall_score(y_test, predictions))\n",
        "print('F1 Score', f1_score(y_test, predictions))\n",
        "print('AUC', roc_auc_score(y_test, predictions))"
      ],
      "execution_count": null,
      "outputs": [
        {
          "output_type": "stream",
          "text": [
            "Accuracy Score 0.8588957055214724\n",
            "Recall Score 0.2268041237113402\n",
            "F1 Score 0.32352941176470584\n",
            "AUC 0.5980867465403548\n"
          ],
          "name": "stdout"
        }
      ]
    },
    {
      "cell_type": "code",
      "metadata": {
        "id": "bRmxpkl0TaI9",
        "colab_type": "code",
        "colab": {
          "base_uri": "https://localhost:8080/",
          "height": 67
        },
        "outputId": "0f0c6d0c-5443-44d7-80c2-4b160e489339"
      },
      "source": [
        "logit_matrix = confusion_matrix(y_test, predictions)\n",
        "print('Logistic Regression Confusion Matrix: \\n', logit_matrix)"
      ],
      "execution_count": null,
      "outputs": [
        {
          "output_type": "stream",
          "text": [
            "Logistic Regression Confusion Matrix: \n",
            " [[538  17]\n",
            " [ 75  22]]\n"
          ],
          "name": "stdout"
        }
      ]
    },
    {
      "cell_type": "code",
      "metadata": {
        "id": "hNRCWy3NTmVc",
        "colab_type": "code",
        "colab": {
          "base_uri": "https://localhost:8080/",
          "height": 406
        },
        "outputId": "4da520b1-49f9-489a-9d79-b6188ce1e7e0"
      },
      "source": [
        "plot_confusion_matrix(logit_matrix, classes=class_names, normalize=True)"
      ],
      "execution_count": null,
      "outputs": [
        {
          "output_type": "stream",
          "text": [
            "Normalized confusion matrix\n"
          ],
          "name": "stdout"
        },
        {
          "output_type": "display_data",
          "data": {
            "image/png": "[encoded data removed]",
            "text/plain": [
              "<Figure size 576x396 with 2 Axes>"
            ]
          },
          "metadata": {
            "tags": []
          }
        }
      ]
    },
    {
      "cell_type": "markdown",
      "metadata": {
        "id": "uLvp73GKUj_e",
        "colab_type": "text"
      },
      "source": [
        "### 2) Random Forest"
      ]
    },
    {
      "cell_type": "code",
      "metadata": {
        "id": "t8YdrRWoUfZM",
        "colab_type": "code",
        "colab": {}
      },
      "source": [
        "rfc = RandomForestClassifier(random_state=18)\n",
        "gs_rfc = gridsearch_cv(rfc, random_forest_params, X_train, y_train, kf)\n",
        "predictions2 = gs_rfc.predict(X_test)"
      ],
      "execution_count": null,
      "outputs": []
    },
    {
      "cell_type": "code",
      "metadata": {
        "id": "GPh0VkDOT7eu",
        "colab_type": "code",
        "colab": {
          "base_uri": "https://localhost:8080/",
          "height": 84
        },
        "outputId": "4a26c17a-3712-4538-9945-dca45410bf7c"
      },
      "source": [
        "print('Accuracy Score', accuracy_score(y_test, predictions2))\n",
        "print('Recall Score', recall_score(y_test, predictions2))\n",
        "print('F1 Score', f1_score(y_test, predictions2))\n",
        "print('AUC', roc_auc_score(y_test, predictions2))"
      ],
      "execution_count": null,
      "outputs": [
        {
          "output_type": "stream",
          "text": [
            "Accuracy Score 0.9815950920245399\n",
            "Recall Score 0.8762886597938144\n",
            "F1 Score 0.9340659340659341\n",
            "AUC 0.9381443298969072\n"
          ],
          "name": "stdout"
        }
      ]
    },
    {
      "cell_type": "code",
      "metadata": {
        "id": "0b0NDS3VT702",
        "colab_type": "code",
        "colab": {
          "base_uri": "https://localhost:8080/",
          "height": 67
        },
        "outputId": "45aa863a-b801-44f3-d89e-92aafec4a4b4"
      },
      "source": [
        "rfc_matrix = confusion_matrix(y_test, predictions2)\n",
        "print('Random Forest Classifier Confusion Matrix: \\n', rfc_matrix)"
      ],
      "execution_count": null,
      "outputs": [
        {
          "output_type": "stream",
          "text": [
            "Random Forest Classifier Confusion Matrix: \n",
            " [[555   0]\n",
            " [ 12  85]]\n"
          ],
          "name": "stdout"
        }
      ]
    },
    {
      "cell_type": "code",
      "metadata": {
        "id": "6vCEI7_4T77_",
        "colab_type": "code",
        "colab": {
          "base_uri": "https://localhost:8080/",
          "height": 406
        },
        "outputId": "d66a6bb6-fdef-4569-8449-ba54ea309ffb"
      },
      "source": [
        "plot_confusion_matrix(rfc_matrix, classes=class_names, normalize=True)"
      ],
      "execution_count": null,
      "outputs": [
        {
          "output_type": "stream",
          "text": [
            "Normalized confusion matrix\n"
          ],
          "name": "stdout"
        },
        {
          "output_type": "display_data",
          "data": {
            "image/png": "[encoded data removed]",
            "text/plain": [
              "<Figure size 576x396 with 2 Axes>"
            ]
          },
          "metadata": {
            "tags": []
          }
        }
      ]
    },
    {
      "cell_type": "markdown",
      "metadata": {
        "id": "m9bnwR0YVru-",
        "colab_type": "text"
      },
      "source": [
        "### 3) K-Nearest Neighbor"
      ]
    },
    {
      "cell_type": "code",
      "metadata": {
        "id": "1-tD3verT7sd",
        "colab_type": "code",
        "colab": {}
      },
      "source": [
        "knn = KNeighborsClassifier()\n",
        "gs_knn = gridsearch_cv(knn, knn_params, X_train, y_train, kf)\n",
        "predictions3 = gs_knn.predict(X_test)"
      ],
      "execution_count": null,
      "outputs": []
    },
    {
      "cell_type": "code",
      "metadata": {
        "id": "hIw85cz5VrNb",
        "colab_type": "code",
        "colab": {
          "base_uri": "https://localhost:8080/",
          "height": 84
        },
        "outputId": "ba644a4a-34f7-4111-8f24-16e7a461238f"
      },
      "source": [
        "print('Accuracy Score', accuracy_score(y_test, predictions3))\n",
        "print('Recall Score', recall_score(y_test, predictions3))\n",
        "print('F1 Score', f1_score(y_test, predictions3))\n",
        "print('AUC', roc_auc_score(y_test, predictions3))"
      ],
      "execution_count": null,
      "outputs": [
        {
          "output_type": "stream",
          "text": [
            "Accuracy Score 0.9095092024539877\n",
            "Recall Score 0.44329896907216493\n",
            "F1 Score 0.593103448275862\n",
            "AUC 0.7171449800315779\n"
          ],
          "name": "stdout"
        }
      ]
    },
    {
      "cell_type": "code",
      "metadata": {
        "id": "VKRGXSJYVrIW",
        "colab_type": "code",
        "colab": {
          "base_uri": "https://localhost:8080/",
          "height": 67
        },
        "outputId": "1e9f7760-8387-417b-9d0d-181f9ed4fdee"
      },
      "source": [
        "knn_matrix = confusion_matrix(y_test, predictions3)\n",
        "print('K-Nearest Neighbor Confusion Matrix: \\n', knn_matrix)"
      ],
      "execution_count": null,
      "outputs": [
        {
          "output_type": "stream",
          "text": [
            "K-Nearest Neighbor Confusion Matrix: \n",
            " [[550   5]\n",
            " [ 54  43]]\n"
          ],
          "name": "stdout"
        }
      ]
    },
    {
      "cell_type": "code",
      "metadata": {
        "id": "rfFZgWc9VrDI",
        "colab_type": "code",
        "colab": {
          "base_uri": "https://localhost:8080/",
          "height": 406
        },
        "outputId": "2e901d5b-b61f-4741-a0d6-d5a40893a462"
      },
      "source": [
        "plot_confusion_matrix(knn_matrix, classes=class_names, normalize=True)"
      ],
      "execution_count": null,
      "outputs": [
        {
          "output_type": "stream",
          "text": [
            "Normalized confusion matrix\n"
          ],
          "name": "stdout"
        },
        {
          "output_type": "display_data",
          "data": {
            "image/png": "[encoded data removed]",
            "text/plain": [
              "<Figure size 576x396 with 2 Axes>"
            ]
          },
          "metadata": {
            "tags": []
          }
        }
      ]
    },
    {
      "cell_type": "markdown",
      "metadata": {
        "id": "2AK1PV7KWAtw",
        "colab_type": "text"
      },
      "source": [
        "### 4) Decision Tree"
      ]
    },
    {
      "cell_type": "code",
      "metadata": {
        "id": "hSouMfYaV_YG",
        "colab_type": "code",
        "colab": {}
      },
      "source": [
        "dtc = DecisionTreeClassifier()\n",
        "gs_dtc = gridsearch_cv(dtc, decision_tree_params, X_train, y_train, kf)\n",
        "predictions4 = gs_dtc.predict(X_test)"
      ],
      "execution_count": null,
      "outputs": []
    },
    {
      "cell_type": "code",
      "metadata": {
        "id": "h0YbtWTvV_lT",
        "colab_type": "code",
        "colab": {
          "base_uri": "https://localhost:8080/",
          "height": 84
        },
        "outputId": "249bb8c5-4124-4d23-ffbc-8fa1a486452e"
      },
      "source": [
        "print('Accuracy Score', accuracy_score(y_test, predictions4))\n",
        "print('Recall Score', recall_score(y_test, predictions4))\n",
        "print('F1 Score', f1_score(y_test, predictions4))\n",
        "print('AUC', roc_auc_score(y_test, predictions4))"
      ],
      "execution_count": null,
      "outputs": [
        {
          "output_type": "stream",
          "text": [
            "Accuracy Score 0.9662576687116564\n",
            "Recall Score 0.8041237113402062\n",
            "F1 Score 0.8764044943820225\n",
            "AUC 0.8993591529674004\n"
          ],
          "name": "stdout"
        }
      ]
    },
    {
      "cell_type": "code",
      "metadata": {
        "id": "GbuhTg1IV_fZ",
        "colab_type": "code",
        "colab": {
          "base_uri": "https://localhost:8080/",
          "height": 67
        },
        "outputId": "4ed559cc-81f9-48f1-a2a1-207f18788a01"
      },
      "source": [
        "dtc_matrix = confusion_matrix(y_test, predictions4)\n",
        "print('Decistion Tree Confusion Matrix: \\n', dtc_matrix)"
      ],
      "execution_count": null,
      "outputs": [
        {
          "output_type": "stream",
          "text": [
            "Decistion Tree Confusion Matrix: \n",
            " [[552   3]\n",
            " [ 19  78]]\n"
          ],
          "name": "stdout"
        }
      ]
    },
    {
      "cell_type": "code",
      "metadata": {
        "id": "2S2_Ys-dVq9l",
        "colab_type": "code",
        "colab": {
          "base_uri": "https://localhost:8080/",
          "height": 406
        },
        "outputId": "d17e52c9-1f16-4e7c-d174-8f5dff398779"
      },
      "source": [
        "plot_confusion_matrix(dtc_matrix, classes=class_names, normalize=True)"
      ],
      "execution_count": null,
      "outputs": [
        {
          "output_type": "stream",
          "text": [
            "Normalized confusion matrix\n"
          ],
          "name": "stdout"
        },
        {
          "output_type": "display_data",
          "data": {
            "image/png": "[encoded data removed]",
            "text/plain": [
              "<Figure size 576x396 with 2 Axes>"
            ]
          },
          "metadata": {
            "tags": []
          }
        }
      ]
    },
    {
      "cell_type": "markdown",
      "metadata": {
        "id": "Krsos5AvWfn1",
        "colab_type": "text"
      },
      "source": [
        "### 5) XGBoost "
      ]
    },
    {
      "cell_type": "code",
      "metadata": {
        "id": "-BmsozTeT7nn",
        "colab_type": "code",
        "colab": {}
      },
      "source": [
        "gs_xgb = gridsearch_cv(xgb, xgb_params, X_train, y_train, kf)\n",
        "predictions5 = gs_xgb.predict(X_test)"
      ],
      "execution_count": null,
      "outputs": []
    },
    {
      "cell_type": "code",
      "metadata": {
        "id": "SBj7OU6pWfDh",
        "colab_type": "code",
        "colab": {
          "base_uri": "https://localhost:8080/",
          "height": 84
        },
        "outputId": "bbf81626-19fb-43f2-ef49-6f8625f403c7"
      },
      "source": [
        "print('Accuracy Score', accuracy_score(y_test, predictions5))\n",
        "print('Recall Score', recall_score(y_test, predictions5))\n",
        "print('F1 Score', f1_score(y_test, predictions5))\n",
        "print('AUC', roc_auc_score(y_test, predictions5))"
      ],
      "execution_count": null,
      "outputs": [
        {
          "output_type": "stream",
          "text": [
            "Accuracy Score 0.9815950920245399\n",
            "Recall Score 0.8762886597938144\n",
            "F1 Score 0.9340659340659341\n",
            "AUC 0.9381443298969072\n"
          ],
          "name": "stdout"
        }
      ]
    },
    {
      "cell_type": "code",
      "metadata": {
        "id": "OXPbWenHWe9h",
        "colab_type": "code",
        "colab": {
          "base_uri": "https://localhost:8080/",
          "height": 67
        },
        "outputId": "4c582d51-6caa-4471-c820-b1ae44fb43c5"
      },
      "source": [
        "xgb_matrix = confusion_matrix(y_test, predictions5)\n",
        "print('XGBoost Confusion Matrix: \\n', xgb_matrix)"
      ],
      "execution_count": null,
      "outputs": [
        {
          "output_type": "stream",
          "text": [
            "XGBoost Confusion Matrix: \n",
            " [[555   0]\n",
            " [ 12  85]]\n"
          ],
          "name": "stdout"
        }
      ]
    },
    {
      "cell_type": "code",
      "metadata": {
        "id": "YXFNr8cnWe3l",
        "colab_type": "code",
        "colab": {
          "base_uri": "https://localhost:8080/",
          "height": 406
        },
        "outputId": "b5a1217a-c791-4f45-ca50-62e3e998df8c"
      },
      "source": [
        "plot_confusion_matrix(xgb_matrix, classes=class_names, normalize=True)"
      ],
      "execution_count": null,
      "outputs": [
        {
          "output_type": "stream",
          "text": [
            "Normalized confusion matrix\n"
          ],
          "name": "stdout"
        },
        {
          "output_type": "display_data",
          "data": {
            "image/png": "[encoded data removed]",
            "text/plain": [
              "<Figure size 576x396 with 2 Axes>"
            ]
          },
          "metadata": {
            "tags": []
          }
        }
      ]
    },
    {
      "cell_type": "markdown",
      "metadata": {
        "id": "KOKq2iZhT9BQ",
        "colab_type": "text"
      },
      "source": [
        "# Build Models without dropping features"
      ]
    },
    {
      "cell_type": "markdown",
      "metadata": {
        "colab_type": "text",
        "id": "x1yB7ByaTFYC"
      },
      "source": [
        "### Train Test Split the data"
      ]
    },
    {
      "cell_type": "code",
      "metadata": {
        "id": "4qA3OQJrDyDZ",
        "colab_type": "code",
        "colab": {}
      },
      "source": [
        "y = df1['churn']\n",
        "X = df1.drop('churn', axis=1)\n",
        "X_train, X_test, y_train, y_test = train_test_split(X, y, test_size=0.2, random_state=42)"
      ],
      "execution_count": null,
      "outputs": []
    },
    {
      "cell_type": "markdown",
      "metadata": {
        "id": "Xcm_FhSfDWci",
        "colab_type": "text"
      },
      "source": [
        "### 1) LogisticRegression"
      ]
    },
    {
      "cell_type": "code",
      "metadata": {
        "id": "p6sJVg1rtJCW",
        "colab_type": "code",
        "colab": {}
      },
      "source": [
        "logit = LogisticRegression(C=1.0)\n",
        "gs_logit = gridsearch_cv(logit, logistic_regression_params, X_train, y_train, kf)\n",
        "predictions = gs_logit.predict(X_test)"
      ],
      "execution_count": null,
      "outputs": []
    },
    {
      "cell_type": "code",
      "metadata": {
        "id": "4_PcNhfqx-lz",
        "colab_type": "code",
        "colab": {
          "base_uri": "https://localhost:8080/",
          "height": 84
        },
        "outputId": "3610539d-5a85-482d-c211-bee15c7d4681"
      },
      "source": [
        "print('Accuracy Score', accuracy_score(y_test, predictions))\n",
        "print('Recall Score', recall_score(y_test, predictions))\n",
        "print('F1 Score', f1_score(y_test, predictions))\n",
        "print('AUC', roc_auc_score(y_test, predictions))"
      ],
      "execution_count": null,
      "outputs": [
        {
          "output_type": "stream",
          "text": [
            "Accuracy Score 0.8619631901840491\n",
            "Recall Score 0.23711340206185566\n",
            "F1 Score 0.3382352941176471\n",
            "AUC 0.6041422866165134\n"
          ],
          "name": "stdout"
        }
      ]
    },
    {
      "cell_type": "code",
      "metadata": {
        "id": "UH4NYOE0WG0K",
        "colab_type": "code",
        "colab": {
          "base_uri": "https://localhost:8080/",
          "height": 67
        },
        "outputId": "5d60fa9c-914b-4114-adc1-548e3d02e4a7"
      },
      "source": [
        "logit_matrix = confusion_matrix(y_test, predictions)\n",
        "print('Logistic Regression Confusion Matrix: \\n', logit_matrix)"
      ],
      "execution_count": null,
      "outputs": [
        {
          "output_type": "stream",
          "text": [
            "Logistic Regression Confusion Matrix: \n",
            " [[539  16]\n",
            " [ 74  23]]\n"
          ],
          "name": "stdout"
        }
      ]
    },
    {
      "cell_type": "code",
      "metadata": {
        "id": "UNts1PCAWVrT",
        "colab_type": "code",
        "colab": {
          "base_uri": "https://localhost:8080/",
          "height": 406
        },
        "outputId": "6140c056-6105-4db7-f6ba-1b3144cf1f45"
      },
      "source": [
        "plot_confusion_matrix(logit_matrix, classes=class_names, normalize=True)"
      ],
      "execution_count": null,
      "outputs": [
        {
          "output_type": "stream",
          "text": [
            "Normalized confusion matrix\n"
          ],
          "name": "stdout"
        },
        {
          "output_type": "display_data",
          "data": {
            "image/png": "[encoded data removed]",
            "text/plain": [
              "<Figure size 576x396 with 2 Axes>"
            ]
          },
          "metadata": {
            "tags": []
          }
        }
      ]
    },
    {
      "cell_type": "markdown",
      "metadata": {
        "id": "WnhKYuBY7u3w",
        "colab_type": "text"
      },
      "source": [
        "### 2) Random Forest"
      ]
    },
    {
      "cell_type": "code",
      "metadata": {
        "colab_type": "code",
        "id": "BVgcncsdzTNI",
        "colab": {}
      },
      "source": [
        "rfc = RandomForestClassifier(random_state=18)\n",
        "gs_rfc = gridsearch_cv(rfc, random_forest_params, X_train, y_train, kf)\n",
        "predictions2 = gs_rfc.predict(X_test)"
      ],
      "execution_count": null,
      "outputs": []
    },
    {
      "cell_type": "code",
      "metadata": {
        "colab_type": "code",
        "id": "3InDXVTABhZS",
        "colab": {
          "base_uri": "https://localhost:8080/",
          "height": 84
        },
        "outputId": "a50d03d3-2eb3-4bfc-8274-22ec46a68f6f"
      },
      "source": [
        "print('Accuracy Score', accuracy_score(y_test, predictions2))\n",
        "print('Recall Score', recall_score(y_test, predictions2))\n",
        "print('F1 Score', f1_score(y_test, predictions2))\n",
        "print('AUC', roc_auc_score(y_test, predictions2))"
      ],
      "execution_count": null,
      "outputs": [
        {
          "output_type": "stream",
          "text": [
            "Accuracy Score 0.9785276073619632\n",
            "Recall Score 0.8556701030927835\n",
            "F1 Score 0.9222222222222222\n",
            "AUC 0.9278350515463918\n"
          ],
          "name": "stdout"
        }
      ]
    },
    {
      "cell_type": "code",
      "metadata": {
        "id": "OFJOqoK7YFT1",
        "colab_type": "code",
        "colab": {
          "base_uri": "https://localhost:8080/",
          "height": 67
        },
        "outputId": "993c540c-bebd-4653-f23a-42b958c826eb"
      },
      "source": [
        "rfc_matrix = confusion_matrix(y_test, predictions2)\n",
        "print('Random Forest Classifier Confusion Matrix: \\n', rfc_matrix)"
      ],
      "execution_count": null,
      "outputs": [
        {
          "output_type": "stream",
          "text": [
            "Random Forest Classifier Confusion Matrix: \n",
            " [[555   0]\n",
            " [ 14  83]]\n"
          ],
          "name": "stdout"
        }
      ]
    },
    {
      "cell_type": "code",
      "metadata": {
        "id": "EM5HzJuiYFQr",
        "colab_type": "code",
        "colab": {
          "base_uri": "https://localhost:8080/",
          "height": 406
        },
        "outputId": "85184562-8f0e-4095-ef17-46776a176237"
      },
      "source": [
        "plot_confusion_matrix(rfc_matrix, classes=class_names, normalize=True)"
      ],
      "execution_count": null,
      "outputs": [
        {
          "output_type": "stream",
          "text": [
            "Normalized confusion matrix\n"
          ],
          "name": "stdout"
        },
        {
          "output_type": "display_data",
          "data": {
            "image/png": "[encoded data removed]",
            "text/plain": [
              "<Figure size 576x396 with 2 Axes>"
            ]
          },
          "metadata": {
            "tags": []
          }
        }
      ]
    },
    {
      "cell_type": "markdown",
      "metadata": {
        "id": "Q6heyvQB76ry",
        "colab_type": "text"
      },
      "source": [
        "### 3) K-Nearest Neighbor"
      ]
    },
    {
      "cell_type": "code",
      "metadata": {
        "colab_type": "code",
        "id": "z_5NLL8PBtpa",
        "colab": {}
      },
      "source": [
        "knn = KNeighborsClassifier()\n",
        "gs_knn = gridsearch_cv(knn, knn_params, X_train, y_train, kf)\n",
        "predictions3 = gs_knn.predict(X_test)"
      ],
      "execution_count": null,
      "outputs": []
    },
    {
      "cell_type": "code",
      "metadata": {
        "colab_type": "code",
        "id": "MqAhhh1BCFzB",
        "colab": {
          "base_uri": "https://localhost:8080/",
          "height": 84
        },
        "outputId": "dfa82a13-b832-432b-ad96-e4e75873de12"
      },
      "source": [
        "print('Accuracy Score', accuracy_score(y_test, predictions3))\n",
        "print('Recall Score', recall_score(y_test, predictions3))\n",
        "print('F1 Score', f1_score(y_test, predictions3))\n",
        "print('AUC', roc_auc_score(y_test, predictions3))"
      ],
      "execution_count": null,
      "outputs": [
        {
          "output_type": "stream",
          "text": [
            "Accuracy Score 0.906441717791411\n",
            "Recall Score 0.41237113402061853\n",
            "F1 Score 0.5673758865248226\n",
            "AUC 0.7025819634067056\n"
          ],
          "name": "stdout"
        }
      ]
    },
    {
      "cell_type": "code",
      "metadata": {
        "id": "8Wwd5EjX7_83",
        "colab_type": "code",
        "colab": {
          "base_uri": "https://localhost:8080/",
          "height": 67
        },
        "outputId": "b239c100-b9f9-4c17-c872-6efe83603324"
      },
      "source": [
        "knn_matrix = confusion_matrix(y_test, predictions3)\n",
        "print('K-Nearest Neighbor Confusion Matrix: \\n', knn_matrix)"
      ],
      "execution_count": null,
      "outputs": [
        {
          "output_type": "stream",
          "text": [
            "K-Nearest Neighbor Confusion Matrix: \n",
            " [[551   4]\n",
            " [ 57  40]]\n"
          ],
          "name": "stdout"
        }
      ]
    },
    {
      "cell_type": "code",
      "metadata": {
        "id": "YQWPYV74Ygni",
        "colab_type": "code",
        "colab": {
          "base_uri": "https://localhost:8080/",
          "height": 406
        },
        "outputId": "13682618-1637-4416-9404-81068a034daa"
      },
      "source": [
        "plot_confusion_matrix(knn_matrix, classes=class_names, normalize=True)"
      ],
      "execution_count": null,
      "outputs": [
        {
          "output_type": "stream",
          "text": [
            "Normalized confusion matrix\n"
          ],
          "name": "stdout"
        },
        {
          "output_type": "display_data",
          "data": {
            "image/png": "[encoded data removed]",
            "text/plain": [
              "<Figure size 576x396 with 2 Axes>"
            ]
          },
          "metadata": {
            "tags": []
          }
        }
      ]
    },
    {
      "cell_type": "markdown",
      "metadata": {
        "id": "k-WBK37V8Ceq",
        "colab_type": "text"
      },
      "source": [
        "### 4) Decision Tree"
      ]
    },
    {
      "cell_type": "code",
      "metadata": {
        "colab_type": "code",
        "id": "1nySzsXgC3B7",
        "colab": {}
      },
      "source": [
        "dtc = DecisionTreeClassifier()\n",
        "gs_dtc = gridsearch_cv(dtc, decision_tree_params, X_train, y_train, kf)\n",
        "predictions4 = gs_dtc.predict(X_test)"
      ],
      "execution_count": null,
      "outputs": []
    },
    {
      "cell_type": "code",
      "metadata": {
        "colab_type": "code",
        "id": "g10XEzbnIeV5",
        "colab": {
          "base_uri": "https://localhost:8080/",
          "height": 84
        },
        "outputId": "ee7f6e75-9a20-489f-dc9f-b22151ff0c8b"
      },
      "source": [
        "print('Accuracy Score', accuracy_score(y_test, predictions4))\n",
        "print('Recall Score', recall_score(y_test, predictions4))\n",
        "print('F1 Score', f1_score(y_test, predictions4))\n",
        "print('AUC', roc_auc_score(y_test, predictions4))"
      ],
      "execution_count": null,
      "outputs": [
        {
          "output_type": "stream",
          "text": [
            "Accuracy Score 0.9447852760736196\n",
            "Recall Score 0.8041237113402062\n",
            "F1 Score 0.8125\n",
            "AUC 0.8867465403547877\n"
          ],
          "name": "stdout"
        }
      ]
    },
    {
      "cell_type": "code",
      "metadata": {
        "id": "pKgFkpH18PB-",
        "colab_type": "code",
        "colab": {
          "base_uri": "https://localhost:8080/",
          "height": 67
        },
        "outputId": "9cda176b-d955-4117-a218-784d2e34e940"
      },
      "source": [
        "dtc_matrix = confusion_matrix(y_test, predictions4)\n",
        "print('Decistion Tree Confusion Matrix: \\n', dtc_matrix)"
      ],
      "execution_count": null,
      "outputs": [
        {
          "output_type": "stream",
          "text": [
            "Decistion Tree Confusion Matrix: \n",
            " [[538  17]\n",
            " [ 19  78]]\n"
          ],
          "name": "stdout"
        }
      ]
    },
    {
      "cell_type": "code",
      "metadata": {
        "id": "K_JZLCM68PIq",
        "colab_type": "code",
        "colab": {
          "base_uri": "https://localhost:8080/",
          "height": 406
        },
        "outputId": "7c4a4e87-d3b3-4bb6-bc9d-8937ad949234"
      },
      "source": [
        "plot_confusion_matrix(dtc_matrix, classes=class_names, normalize=True)"
      ],
      "execution_count": null,
      "outputs": [
        {
          "output_type": "stream",
          "text": [
            "Normalized confusion matrix\n"
          ],
          "name": "stdout"
        },
        {
          "output_type": "display_data",
          "data": {
            "image/png": "[encoded data removed]",
            "text/plain": [
              "<Figure size 576x396 with 2 Axes>"
            ]
          },
          "metadata": {
            "tags": []
          }
        }
      ]
    },
    {
      "cell_type": "markdown",
      "metadata": {
        "id": "LhkywPYmIpEp",
        "colab_type": "text"
      },
      "source": [
        "### 5) XGBoost "
      ]
    },
    {
      "cell_type": "code",
      "metadata": {
        "id": "R3pOU1d2Ppo6",
        "colab_type": "code",
        "colab": {}
      },
      "source": [
        "gs_xgb = gridsearch_cv(xgb, xgb_params, X_train, y_train, kf)\n",
        "predictions5 = gs_xgb.predict(X_test)"
      ],
      "execution_count": null,
      "outputs": []
    },
    {
      "cell_type": "code",
      "metadata": {
        "colab_type": "code",
        "id": "eOsNPjZOI3-3",
        "colab": {
          "base_uri": "https://localhost:8080/",
          "height": 84
        },
        "outputId": "e0869f26-bdf5-4c83-8048-94fd155e7937"
      },
      "source": [
        "print('Accuracy Score', accuracy_score(y_test, predictions5))\n",
        "print('Recall Score', recall_score(y_test, predictions5))\n",
        "print('F1 Score', f1_score(y_test, predictions5))\n",
        "print('AUC', roc_auc_score(y_test, predictions5))"
      ],
      "execution_count": null,
      "outputs": [
        {
          "output_type": "stream",
          "text": [
            "Accuracy Score 0.9815950920245399\n",
            "Recall Score 0.8762886597938144\n",
            "F1 Score 0.9340659340659341\n",
            "AUC 0.9381443298969072\n"
          ],
          "name": "stdout"
        }
      ]
    },
    {
      "cell_type": "code",
      "metadata": {
        "colab_type": "code",
        "id": "iYj3X2sxI9ww",
        "colab": {
          "base_uri": "https://localhost:8080/",
          "height": 67
        },
        "outputId": "c770f28d-d0b3-42a8-cbaa-52426b9e3b9e"
      },
      "source": [
        "xgb_matrix = confusion_matrix(y_test, predictions5)\n",
        "print('XGBoost Confusion Matrix: \\n', xgb_matrix)"
      ],
      "execution_count": null,
      "outputs": [
        {
          "output_type": "stream",
          "text": [
            "XGBoost Confusion Matrix: \n",
            " [[555   0]\n",
            " [ 12  85]]\n"
          ],
          "name": "stdout"
        }
      ]
    },
    {
      "cell_type": "code",
      "metadata": {
        "colab_type": "code",
        "id": "K9OPYljsJCII",
        "colab": {
          "base_uri": "https://localhost:8080/",
          "height": 406
        },
        "outputId": "8fc1e1ec-1672-4cc1-de2d-4a46cf9b1e5b"
      },
      "source": [
        "plot_confusion_matrix(xgb_matrix, classes=class_names, normalize=True)"
      ],
      "execution_count": null,
      "outputs": [
        {
          "output_type": "stream",
          "text": [
            "Normalized confusion matrix\n"
          ],
          "name": "stdout"
        },
        {
          "output_type": "display_data",
          "data": {
            "image/png": "[encoded data removed]",
            "text/plain": [
              "<Figure size 576x396 with 2 Axes>"
            ]
          },
          "metadata": {
            "tags": []
          }
        }
      ]
    },
    {
      "cell_type": "markdown",
      "metadata": {
        "id": "0NOCrp-XcE7j",
        "colab_type": "text"
      },
      "source": [
        "**Comment: Comparing 5 models with chosen features based on Lasso CV with 5 models without dropping features (coefficient=0), they all have top 3 models which are XGBoost, Random Forest, and Decision Tree.**\n",
        "\n",
        "**When comparing AUC and F1 scores, the models with chosen features have higher values. Therefore, I will go with them.**"
      ]
    },
    {
      "cell_type": "markdown",
      "metadata": {
        "id": "enP9THhjMv9d",
        "colab_type": "text"
      },
      "source": [
        "### Plot Receiver Operating Characteristic (ROC) Curve"
      ]
    },
    {
      "cell_type": "markdown",
      "metadata": {
        "id": "sxj9Na6UQJCS",
        "colab_type": "text"
      },
      "source": [
        "The ROC curve (Receiver Operating Characteristics curve) is the display of sensitivity and specificity for different cut-off values for probability (If the probability of positive response is above the cut-off, we predict a positive outcome, if not we are predicting a negative one). Each cut-off value defines one point on ROC curve, ranging cut-off from 0 to 1 will draw the whole ROC curve.\n",
        "\n",
        "In short, ROC curve tells how much model is capable of distinguishing between classes. Higher the AUC, better the model is at predicting 0s as 0s and 1s as 1s. By analogy, the higher the AUC, better the model is at distinguishing between churned customers and non-churned customers.\n",
        "\n",
        "ROC Curve is generated by plotting the True Positive rate (y-axis) against the False Positive rate (x-axis)."
      ]
    },
    {
      "cell_type": "code",
      "metadata": {
        "id": "JzHk1V-gPGFr",
        "colab_type": "code",
        "colab": {
          "base_uri": "https://localhost:8080/",
          "height": 625
        },
        "outputId": "716be136-2f83-466b-f561-1611f2fae81f"
      },
      "source": [
        "plt.figure(figsize=(10,10))\n",
        "\n",
        "y_pred = gs_logit.predict_proba(X_test)[:,1]\n",
        "fpr, tpr, thresholds = roc_curve(y_test, y_pred)\n",
        "plt.plot(fpr, tpr, color='blue',\n",
        "         lw=3, label='Logistic Regression (AUC = {})'.format(round(roc_auc_score(y_test, predictions), 3)))\n",
        "\n",
        "y_pred = gs_rfc.predict_proba(X_test)[:,1]\n",
        "fpr, tpr, thresholds = roc_curve(y_test, y_pred)\n",
        "plt.plot(fpr, tpr, color='green',\n",
        "         lw=3, label='RandomForest (AUC = {})'.format(round(roc_auc_score(y_test, predictions2), 3)))\n",
        "\n",
        "y_pred = gs_knn.predict_proba(X_test)[:,1]\n",
        "fpr, tpr, thresholds = roc_curve(y_test, y_pred)\n",
        "plt.plot(fpr, tpr, color='red',\n",
        "         lw=2, label='K-Nearest Neighbor (AUC = {})'.format(round(roc_auc_score(y_test, predictions3), 3)))\n",
        "\n",
        "y_pred = gs_dtc.predict_proba(X_test)[:,1]\n",
        "fpr, tpr, thresholds = roc_curve(y_test, y_pred)\n",
        "plt.plot(fpr, tpr, color='yellow',\n",
        "         lw=3, label='DecisionTree (AUC = {})'.format(round(roc_auc_score(y_test, predictions4), 3)))\n",
        "\n",
        "y_pred = gs_xgb.predict_proba(X_test)[:,1]\n",
        "fpr, tpr, thresholds = roc_curve(y_test, y_pred)\n",
        "plt.plot(fpr, tpr, color='brown',\n",
        "         lw=2, label='XGBoost (AUC = {})'.format(round(roc_auc_score(y_test, predictions5), 3)))\n",
        "\n",
        "plt.plot([0, 1], [0, 1], color='navy', lw=2, linestyle='--')\n",
        "plt.xlim([0.0, 1.0])\n",
        "plt.ylim([0.0, 1.0])\n",
        "plt.xlabel('False Positive Rate', fontsize=13)\n",
        "plt.ylabel('True Positive Rate', fontsize=14)\n",
        "plt.title('Receiver Operating Characteristic (ROC) Curve', fontsize=17)\n",
        "plt.legend(loc='lower right', fontsize=13)\n",
        "plt.show()"
      ],
      "execution_count": null,
      "outputs": [
        {
          "output_type": "display_data",
          "data": {
            "image/png": "[encoded data removed]",
            "text/plain": [
              "<Figure size 720x720 with 1 Axes>"
            ]
          },
          "metadata": {
            "tags": []
          }
        }
      ]
    },
    {
      "cell_type": "markdown",
      "metadata": {
        "id": "ua2KSxUjIkZw",
        "colab_type": "text"
      },
      "source": [
        "**Comment**: XGBoost has the highest AUC value, followed by RandomForest, DecisionTree, LogisticRegression. \n",
        "\n",
        "K-Nearest Neighbor has he lowest AUC value."
      ]
    },
    {
      "cell_type": "code",
      "metadata": {
        "id": "2ZTgGtmCepG5",
        "colab_type": "code",
        "colab": {
          "base_uri": "https://localhost:8080/",
          "height": 625
        },
        "outputId": "8556e4a4-e238-4c68-f661-363cd4a2e10a"
      },
      "source": [
        "# Plot ROC curve again with only top 3 models\n",
        "plt.figure(figsize=(10,10))\n",
        "\n",
        "y_pred = gs_rfc.predict_proba(X_test)[:,1]\n",
        "fpr, tpr, thresholds = roc_curve(y_test, y_pred)\n",
        "plt.plot(fpr, tpr, color='green',\n",
        "         lw=3, label='RandomForest (AUC = {})'.format(round(roc_auc_score(y_test, predictions2), 3)))\n",
        "\n",
        "y_pred = gs_dtc.predict_proba(X_test)[:,1]\n",
        "fpr, tpr, thresholds = roc_curve(y_test, y_pred)\n",
        "plt.plot(fpr, tpr, color='yellow',\n",
        "         lw=3, label='DecisionTree (AUC = {})'.format(round(roc_auc_score(y_test, predictions4), 3)))\n",
        "\n",
        "y_pred = gs_xgb.predict_proba(X_test)[:,1]\n",
        "fpr, tpr, thresholds = roc_curve(y_test, y_pred)\n",
        "plt.plot(fpr, tpr, color='brown',\n",
        "         lw=2, label='XGBoost (AUC = {})'.format(round(roc_auc_score(y_test, predictions5), 3)))\n",
        "\n",
        "plt.plot([0, 1], [0, 1], color='navy', lw=2, linestyle='--')\n",
        "plt.xlim([0.0, 1.0])\n",
        "plt.ylim([0.0, 1.0])\n",
        "plt.xlabel('False Positive Rate', fontsize=13)\n",
        "plt.ylabel('True Positive Rate', fontsize=14)\n",
        "plt.title('Receiver Operating Characteristic (ROC) Curve', fontsize=17)\n",
        "plt.legend(loc='lower right', fontsize=13)\n",
        "plt.show()"
      ],
      "execution_count": null,
      "outputs": [
        {
          "output_type": "display_data",
          "data": {
            "image/png": "[encoded data removed]",
            "text/plain": [
              "<Figure size 720x720 with 1 Axes>"
            ]
          },
          "metadata": {
            "tags": []
          }
        }
      ]
    },
    {
      "cell_type": "markdown",
      "metadata": {
        "id": "-66cfZ7XGZC7",
        "colab_type": "text"
      },
      "source": [
        "# Calculate metrics on test sets of each classifier"
      ]
    },
    {
      "cell_type": "markdown",
      "metadata": {
        "id": "UholzzjB-FM7",
        "colab_type": "text"
      },
      "source": [
        "* Accuracy: How often is the classifier correct?\n",
        "\n",
        "  Can be misleading with unbalanced datasets\n",
        "* Precision: When it predicts yes, how often is it correct?\n",
        "\n",
        " Can be misleading if the model is very conservative about which cases they predict as true\n",
        "* Recall: When it is actually yes, how often does it predict yes?\n",
        "\n",
        " Can get a 100% recall score by simply assuming every case is true, which would not necessarily be a better model\n",
        "* F1: The harmonic average of precision and recall. \n",
        " \n",
        " F1 cannot be high without both precision and recall being high. Therefore, in this case, F1 score is a great metric to choose which model is the best along with AUC."
      ]
    },
    {
      "cell_type": "code",
      "metadata": {
        "id": "TzafVN3HAb2z",
        "colab_type": "code",
        "colab": {
          "base_uri": "https://localhost:8080/",
          "height": 117
        },
        "outputId": "8851a111-b1d4-4370-d871-18bd59c3af22"
      },
      "source": [
        "classifiers = [gs_logit, gs_rfc, gs_knn, gs_dtc, gs_xgb]\n",
        "classifier_names = ['Logistic Regression', 'Random Forest', 'KNN', 'Decision Tree', 'XGBoost']\n",
        "auc_scores = [0.59808674, 0.93814432, 0.71714498, 0.89935915, 0.93814432]\n",
        "\n",
        "accs = []\n",
        "recalls = []\n",
        "precision = []\n",
        "results_table = pd.DataFrame(columns=[\"accuracy\", \"precision\", \"recall\", \"f1\", \"auc\"])\n",
        "\n",
        "for (i, clf), name, auc in zip(enumerate(classifiers), classifier_names, auc_scores):\n",
        "    y_pred = clf.predict(X_test)\n",
        "    row = []\n",
        "    row.append(accuracy_score(y_test, y_pred))\n",
        "    row.append(precision_score(y_test, y_pred))\n",
        "    row.append(recall_score(y_test, y_pred))\n",
        "    row.append(f1_score(y_test, y_pred))\n",
        "    row.append(auc)\n",
        "    row = [\"%.3f\" % r for r in row]\n",
        "    results_table.loc[name] = row\n",
        "\n",
        "print(results_table)"
      ],
      "execution_count": null,
      "outputs": [
        {
          "output_type": "stream",
          "text": [
            "                    accuracy precision recall     f1    auc\n",
            "Logistic Regression    0.859     0.564  0.227  0.324  0.598\n",
            "Random Forest          0.982     1.000  0.876  0.934  0.938\n",
            "KNN                    0.910     0.896  0.443  0.593  0.717\n",
            "Decision Tree          0.966     0.963  0.804  0.876  0.899\n",
            "XGBoost                0.982     1.000  0.876  0.934  0.938\n"
          ],
          "name": "stdout"
        }
      ]
    },
    {
      "cell_type": "markdown",
      "metadata": {
        "id": "sV39ZTCrXs02",
        "colab_type": "text"
      },
      "source": [
        "**Comment**: \n",
        "* XGBoost has the highest AUC value and also the highest F1 score.\n",
        "* RandomForest has the second highest AUC value and F1 score. However, it took a longer time to run. It is not a good model as it takes more time and memory storage.\n",
        "* DecisionTree comes in the third place and Logistic Regression comes in the forth place.\n",
        "* K-Nearest Neighbor has the lowest AUC value and also the lowest F1 score. \n",
        "\n",
        "To sum, XGBoost is the model that has the best performance."
      ]
    },
    {
      "cell_type": "markdown",
      "metadata": {
        "id": "vkvGBIhjgJuZ",
        "colab_type": "text"
      },
      "source": [
        "# The Final Model"
      ]
    },
    {
      "cell_type": "markdown",
      "metadata": {
        "id": "6erXtnbhgPUo",
        "colab_type": "text"
      },
      "source": [
        "Obtain the feature importance from the chosen classifier which is XGBoost Classifier"
      ]
    },
    {
      "cell_type": "code",
      "metadata": {
        "id": "tyNkCLAWgLes",
        "colab_type": "code",
        "colab": {
          "base_uri": "https://localhost:8080/",
          "height": 629
        },
        "outputId": "a60f2860-7b0d-47da-eb87-037d909a24d3"
      },
      "source": [
        "# Fit the model\n",
        "xgb_model = xgb.fit(X_lasso, y_lasso)\n",
        "\n",
        "# Plot the top features based on its importance\n",
        "(pd.Series(xgb_model.feature_importances_, index=X_lasso.columns)\n",
        "   .nlargest(15)   # can adjust based on how many top features you want\n",
        "   .plot(kind='barh', figsize=[15,10], color='cornflowerblue')\n",
        "   .invert_yaxis()) # Ensures that the feature with the most importance is on top, in descending order\n",
        "\n",
        "plt.yticks(size=15)\n",
        "plt.title('Top Features by XGBoost', size=20)"
      ],
      "execution_count": null,
      "outputs": [
        {
          "output_type": "execute_result",
          "data": {
            "text/plain": [
              "Text(0.5, 1.0, 'Top Features by XGBoost')"
            ]
          },
          "metadata": {
            "tags": []
          },
          "execution_count": 112
        },
        {
          "output_type": "display_data",
          "data": {
            "image/png": "[encoded data removed]",
            "text/plain": [
              "<Figure size 1080x720 with 1 Axes>"
            ]
          },
          "metadata": {
            "tags": []
          }
        }
      ]
    },
    {
      "cell_type": "markdown",
      "metadata": {
        "id": "WHQ26VXchoch",
        "colab_type": "text"
      },
      "source": [
        "# Conclusion"
      ]
    },
    {
      "cell_type": "markdown",
      "metadata": {
        "id": "Spe_2yK8hreB",
        "colab_type": "text"
      },
      "source": [
        "Several classifiers were used to train our models: Logistic Regression, Random Forest, K-Nearest Neighbor, Decision Tree, and XGBoost. Out of these 5 classifiers, XGBoost produced the best model with great performance in AUC and F1 score. According to XGBoost classifier, the five most important factors that have great impacts on churned customers are 'total charge', 'voicemail plan', 'customer service calls', 'total international calls', 'international plan', 'total international charge'.\n",
        "\n",
        "To reduce the rate for churned customers, SyriaTel should focus on those factors above."
      ]
    }
  ]
}